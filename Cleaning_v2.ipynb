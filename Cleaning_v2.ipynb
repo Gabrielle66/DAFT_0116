{
 "cells": [
  {
   "cell_type": "code",
   "execution_count": 2,
   "id": "893a3f63",
   "metadata": {},
   "outputs": [],
   "source": [
    "# Import and read the data\n",
    "import pandas as pd\n",
    "import numpy as np\n",
    "df = pd.read_csv(r'\\Users\\farah\\DAFT_0116\\Data clean\\fake_job_postings.csv')"
   ]
  },
  {
   "cell_type": "code",
   "execution_count": 3,
   "id": "cb80fd0e",
   "metadata": {},
   "outputs": [
    {
     "data": {
      "text/plain": [
       "(17880, 18)"
      ]
     },
     "execution_count": 3,
     "metadata": {},
     "output_type": "execute_result"
    }
   ],
   "source": [
    "df.shape"
   ]
  },
  {
   "cell_type": "code",
   "execution_count": 4,
   "id": "550ca246",
   "metadata": {},
   "outputs": [
    {
     "name": "stdout",
     "output_type": "stream",
     "text": [
      "Missing values distribution: \n",
      "job_id                 0.000000\n",
      "title                  0.000000\n",
      "location               0.019351\n",
      "department             0.645805\n",
      "salary_range           0.839597\n",
      "company_profile        0.185011\n",
      "description            0.000056\n",
      "requirements           0.150727\n",
      "benefits               0.403244\n",
      "telecommuting          0.000000\n",
      "has_company_logo       0.000000\n",
      "has_questions          0.000000\n",
      "employment_type        0.194128\n",
      "required_experience    0.394295\n",
      "required_education     0.453300\n",
      "industry               0.274217\n",
      "function               0.361018\n",
      "fraudulent             0.000000\n",
      "dtype: float64\n"
     ]
    }
   ],
   "source": [
    "# Print the % of empty cells in the data\n",
    "# Top offenders (>40%) are: Salary range, Department, Benefits, required_experience, required_education...\n",
    "# We decide to drop department, salary_range and benefits and try to repair the rest\n",
    "# Loi : Localisation, titre du poste, fiche de poste\n",
    "print(\"Missing values distribution: \")\n",
    "print(df.isnull().mean())"
   ]
  },
  {
   "cell_type": "code",
   "execution_count": 5,
   "id": "488aa98a",
   "metadata": {},
   "outputs": [],
   "source": [
    "df.drop(['department','salary_range','benefits'], axis = 1, inplace = True) "
   ]
  },
  {
   "cell_type": "code",
   "execution_count": 7,
   "id": "419a5ed6",
   "metadata": {},
   "outputs": [
    {
     "data": {
      "text/plain": [
       "(17880, 15)"
      ]
     },
     "execution_count": 7,
     "metadata": {},
     "output_type": "execute_result"
    }
   ],
   "source": [
    "df.shape\n",
    "#columns have been dropped"
   ]
  },
  {
   "cell_type": "code",
   "execution_count": 8,
   "id": "487bf4c4",
   "metadata": {},
   "outputs": [
    {
     "data": {
      "text/plain": [
       "job_id                 0.000000\n",
       "title                  0.000000\n",
       "location               0.019351\n",
       "company_profile        0.185011\n",
       "description            0.000056\n",
       "requirements           0.150727\n",
       "telecommuting          0.000000\n",
       "has_company_logo       0.000000\n",
       "has_questions          0.000000\n",
       "employment_type        0.194128\n",
       "required_experience    0.394295\n",
       "required_education     0.453300\n",
       "industry               0.274217\n",
       "function               0.361018\n",
       "fraudulent             0.000000\n",
       "dtype: float64"
      ]
     },
     "execution_count": 8,
     "metadata": {},
     "output_type": "execute_result"
    }
   ],
   "source": [
    "df.isnull().mean()"
   ]
  },
  {
   "cell_type": "code",
   "execution_count": 9,
   "id": "c3a22e7d",
   "metadata": {},
   "outputs": [
    {
     "data": {
      "text/plain": [
       "(4587, 15)"
      ]
     },
     "execution_count": 9,
     "metadata": {},
     "output_type": "execute_result"
    }
   ],
   "source": [
    "rows = df[(df['required_education'].isnull()==True) & (df['required_experience'].isnull()==True) & (df['function'].isnull()==True)]\n",
    "rows.shape"
   ]
  },
  {
   "cell_type": "code",
   "execution_count": 10,
   "id": "9e033f28",
   "metadata": {},
   "outputs": [],
   "source": [
    "drop_rows = list(rows.index)\n",
    "df_clean = df.drop(drop_rows, axis=0) #rows"
   ]
  },
  {
   "cell_type": "code",
   "execution_count": 11,
   "id": "cf4008f1",
   "metadata": {},
   "outputs": [
    {
     "data": {
      "text/plain": [
       "(13293, 15)"
      ]
     },
     "execution_count": 11,
     "metadata": {},
     "output_type": "execute_result"
    }
   ],
   "source": [
    "df_clean.shape"
   ]
  },
  {
   "cell_type": "code",
   "execution_count": null,
   "id": "75022ae2",
   "metadata": {},
   "outputs": [],
   "source": []
  },
  {
   "cell_type": "code",
   "execution_count": 28,
   "id": "2538d3b6",
   "metadata": {},
   "outputs": [
    {
     "data": {
      "text/plain": [
       "job_id                 0.000000\n",
       "title                  0.000000\n",
       "location               0.008125\n",
       "company_profile        0.160536\n",
       "description            0.000000\n",
       "requirements           0.077560\n",
       "telecommuting          0.000000\n",
       "has_company_logo       0.000000\n",
       "has_questions          0.000000\n",
       "employment_type        0.043858\n",
       "required_experience    0.185285\n",
       "required_education     0.264651\n",
       "industry               0.093508\n",
       "function               0.140525\n",
       "fraudulent             0.000000\n",
       "dtype: float64"
      ]
     },
     "execution_count": 28,
     "metadata": {},
     "output_type": "execute_result"
    }
   ],
   "source": [
    "df_clean.isnull().mean()"
   ]
  },
  {
   "cell_type": "code",
   "execution_count": 18,
   "id": "7773d095",
   "metadata": {},
   "outputs": [],
   "source": [
    "df_clean.to_csv('df_clean.csv')"
   ]
  },
  {
   "cell_type": "code",
   "execution_count": 20,
   "id": "a4777eea",
   "metadata": {},
   "outputs": [
    {
     "name": "stderr",
     "output_type": "stream",
     "text": [
      "C:\\Users\\farah\\AppData\\Local\\Temp\\ipykernel_11060\\3203978501.py:1: UserWarning: Boolean Series key will be reindexed to match DataFrame index.\n",
      "  df_clean[df['function'].isnull()==True]\n"
     ]
    },
    {
     "data": {
      "text/html": [
       "<div>\n",
       "<style scoped>\n",
       "    .dataframe tbody tr th:only-of-type {\n",
       "        vertical-align: middle;\n",
       "    }\n",
       "\n",
       "    .dataframe tbody tr th {\n",
       "        vertical-align: top;\n",
       "    }\n",
       "\n",
       "    .dataframe thead th {\n",
       "        text-align: right;\n",
       "    }\n",
       "</style>\n",
       "<table border=\"1\" class=\"dataframe\">\n",
       "  <thead>\n",
       "    <tr style=\"text-align: right;\">\n",
       "      <th></th>\n",
       "      <th>job_id</th>\n",
       "      <th>title</th>\n",
       "      <th>location</th>\n",
       "      <th>company_profile</th>\n",
       "      <th>description</th>\n",
       "      <th>requirements</th>\n",
       "      <th>telecommuting</th>\n",
       "      <th>has_company_logo</th>\n",
       "      <th>has_questions</th>\n",
       "      <th>employment_type</th>\n",
       "      <th>required_experience</th>\n",
       "      <th>required_education</th>\n",
       "      <th>industry</th>\n",
       "      <th>function</th>\n",
       "      <th>fraudulent</th>\n",
       "    </tr>\n",
       "  </thead>\n",
       "  <tbody>\n",
       "    <tr>\n",
       "      <th>8</th>\n",
       "      <td>9</td>\n",
       "      <td>HP BSM SME</td>\n",
       "      <td>US, FL, Pensacola</td>\n",
       "      <td>Solutions3 is a woman-owned small business who...</td>\n",
       "      <td>Implementation/Configuration/Testing/Training ...</td>\n",
       "      <td>MUST BE A US CITIZEN.An active TS/SCI clearanc...</td>\n",
       "      <td>0</td>\n",
       "      <td>1</td>\n",
       "      <td>1</td>\n",
       "      <td>Full-time</td>\n",
       "      <td>Associate</td>\n",
       "      <td>NaN</td>\n",
       "      <td>Information Technology and Services</td>\n",
       "      <td>NaN</td>\n",
       "      <td>0</td>\n",
       "    </tr>\n",
       "    <tr>\n",
       "      <th>35</th>\n",
       "      <td>36</td>\n",
       "      <td>English Teacher Abroad</td>\n",
       "      <td>US, NY, Saint Bonaventure</td>\n",
       "      <td>We help teachers get safe &amp;amp; secure jobs ab...</td>\n",
       "      <td>Play with kids, get paid for it Love travel? J...</td>\n",
       "      <td>University degree required. TEFL / TESOL / CEL...</td>\n",
       "      <td>0</td>\n",
       "      <td>1</td>\n",
       "      <td>1</td>\n",
       "      <td>Contract</td>\n",
       "      <td>NaN</td>\n",
       "      <td>Bachelor's Degree</td>\n",
       "      <td>Education Management</td>\n",
       "      <td>NaN</td>\n",
       "      <td>0</td>\n",
       "    </tr>\n",
       "    <tr>\n",
       "      <th>36</th>\n",
       "      <td>37</td>\n",
       "      <td>Graduates: English Teacher Abroad</td>\n",
       "      <td>US, NY, Yonkers</td>\n",
       "      <td>We help teachers get safe &amp;amp; secure jobs ab...</td>\n",
       "      <td>Play with kids, get paid for it :-)Love travel...</td>\n",
       "      <td>University degree required. TEFL / TESOL / CEL...</td>\n",
       "      <td>0</td>\n",
       "      <td>1</td>\n",
       "      <td>0</td>\n",
       "      <td>Contract</td>\n",
       "      <td>NaN</td>\n",
       "      <td>Bachelor's Degree</td>\n",
       "      <td>Education Management</td>\n",
       "      <td>NaN</td>\n",
       "      <td>0</td>\n",
       "    </tr>\n",
       "    <tr>\n",
       "      <th>40</th>\n",
       "      <td>41</td>\n",
       "      <td>English Teacher Abroad</td>\n",
       "      <td>US, PA, Kutztown</td>\n",
       "      <td>We help teachers get safe &amp;amp; secure jobs ab...</td>\n",
       "      <td>Play with kids, get paid for it Love travel? J...</td>\n",
       "      <td>University degree required. TEFL / TESOL / CEL...</td>\n",
       "      <td>0</td>\n",
       "      <td>1</td>\n",
       "      <td>1</td>\n",
       "      <td>Contract</td>\n",
       "      <td>NaN</td>\n",
       "      <td>Bachelor's Degree</td>\n",
       "      <td>Education Management</td>\n",
       "      <td>NaN</td>\n",
       "      <td>0</td>\n",
       "    </tr>\n",
       "    <tr>\n",
       "      <th>41</th>\n",
       "      <td>42</td>\n",
       "      <td>English Teacher Abroad</td>\n",
       "      <td>US, CA, Sacramento</td>\n",
       "      <td>We help teachers get safe &amp;amp; secure jobs ab...</td>\n",
       "      <td>Play with kids, get paid for it Love travel? J...</td>\n",
       "      <td>University degree required. TEFL / TESOL / CEL...</td>\n",
       "      <td>0</td>\n",
       "      <td>1</td>\n",
       "      <td>1</td>\n",
       "      <td>Contract</td>\n",
       "      <td>NaN</td>\n",
       "      <td>Bachelor's Degree</td>\n",
       "      <td>Education Management</td>\n",
       "      <td>NaN</td>\n",
       "      <td>0</td>\n",
       "    </tr>\n",
       "    <tr>\n",
       "      <th>...</th>\n",
       "      <td>...</td>\n",
       "      <td>...</td>\n",
       "      <td>...</td>\n",
       "      <td>...</td>\n",
       "      <td>...</td>\n",
       "      <td>...</td>\n",
       "      <td>...</td>\n",
       "      <td>...</td>\n",
       "      <td>...</td>\n",
       "      <td>...</td>\n",
       "      <td>...</td>\n",
       "      <td>...</td>\n",
       "      <td>...</td>\n",
       "      <td>...</td>\n",
       "      <td>...</td>\n",
       "    </tr>\n",
       "    <tr>\n",
       "      <th>17772</th>\n",
       "      <td>17773</td>\n",
       "      <td>Sales professionals</td>\n",
       "      <td>AU, QLD, Gold coast</td>\n",
       "      <td>NaN</td>\n",
       "      <td>International media company looking for motiva...</td>\n",
       "      <td>highly motivated to create successprofessional...</td>\n",
       "      <td>0</td>\n",
       "      <td>0</td>\n",
       "      <td>1</td>\n",
       "      <td>Other</td>\n",
       "      <td>Not Applicable</td>\n",
       "      <td>Unspecified</td>\n",
       "      <td>Marketing and Advertising</td>\n",
       "      <td>NaN</td>\n",
       "      <td>1</td>\n",
       "    </tr>\n",
       "    <tr>\n",
       "      <th>17805</th>\n",
       "      <td>17806</td>\n",
       "      <td>Receptionist</td>\n",
       "      <td>GB, ,</td>\n",
       "      <td>NaN</td>\n",
       "      <td>We the Montcalm Hotel are looking for the posi...</td>\n",
       "      <td>Good Requirement</td>\n",
       "      <td>0</td>\n",
       "      <td>0</td>\n",
       "      <td>0</td>\n",
       "      <td>Full-time</td>\n",
       "      <td>Entry level</td>\n",
       "      <td>NaN</td>\n",
       "      <td>Hospitality</td>\n",
       "      <td>NaN</td>\n",
       "      <td>1</td>\n",
       "    </tr>\n",
       "    <tr>\n",
       "      <th>17817</th>\n",
       "      <td>17818</td>\n",
       "      <td>CSR</td>\n",
       "      <td>US, LA, Slidell</td>\n",
       "      <td>NaN</td>\n",
       "      <td>Now hiring CSR / Advertising representatives t...</td>\n",
       "      <td>NaN</td>\n",
       "      <td>0</td>\n",
       "      <td>0</td>\n",
       "      <td>0</td>\n",
       "      <td>Part-time</td>\n",
       "      <td>Entry level</td>\n",
       "      <td>NaN</td>\n",
       "      <td>Online Media</td>\n",
       "      <td>NaN</td>\n",
       "      <td>1</td>\n",
       "    </tr>\n",
       "    <tr>\n",
       "      <th>17839</th>\n",
       "      <td>17840</td>\n",
       "      <td>SAS Grid Developer</td>\n",
       "      <td>US, NJ, Berkeley Heights</td>\n",
       "      <td>NaN</td>\n",
       "      <td>Job Title: SAS Grid DeveloperDuration: 06+ mon...</td>\n",
       "      <td>Mandatory Technical /Functional Skills:• IT ex...</td>\n",
       "      <td>0</td>\n",
       "      <td>0</td>\n",
       "      <td>0</td>\n",
       "      <td>Contract</td>\n",
       "      <td>Mid-Senior level</td>\n",
       "      <td>NaN</td>\n",
       "      <td>NaN</td>\n",
       "      <td>NaN</td>\n",
       "      <td>0</td>\n",
       "    </tr>\n",
       "    <tr>\n",
       "      <th>17845</th>\n",
       "      <td>17846</td>\n",
       "      <td>Junior Game Designer</td>\n",
       "      <td>CA, , Ottawa</td>\n",
       "      <td>Magmic is a leading developer and publisher of...</td>\n",
       "      <td>Junior Game Designer responsibilities include:...</td>\n",
       "      <td>Keen interest in the casual gaming and mobile ...</td>\n",
       "      <td>0</td>\n",
       "      <td>1</td>\n",
       "      <td>0</td>\n",
       "      <td>Full-time</td>\n",
       "      <td>Entry level</td>\n",
       "      <td>NaN</td>\n",
       "      <td>NaN</td>\n",
       "      <td>NaN</td>\n",
       "      <td>0</td>\n",
       "    </tr>\n",
       "  </tbody>\n",
       "</table>\n",
       "<p>1868 rows × 15 columns</p>\n",
       "</div>"
      ],
      "text/plain": [
       "       job_id                               title                   location  \\\n",
       "8           9                          HP BSM SME          US, FL, Pensacola   \n",
       "35         36             English Teacher Abroad   US, NY, Saint Bonaventure   \n",
       "36         37  Graduates: English Teacher Abroad             US, NY, Yonkers   \n",
       "40         41             English Teacher Abroad            US, PA, Kutztown   \n",
       "41         42             English Teacher Abroad          US, CA, Sacramento   \n",
       "...       ...                                 ...                        ...   \n",
       "17772   17773                 Sales professionals        AU, QLD, Gold coast   \n",
       "17805   17806                        Receptionist                     GB, ,    \n",
       "17817   17818                                 CSR            US, LA, Slidell   \n",
       "17839   17840                  SAS Grid Developer   US, NJ, Berkeley Heights   \n",
       "17845   17846                Junior Game Designer               CA, , Ottawa   \n",
       "\n",
       "                                         company_profile  \\\n",
       "8      Solutions3 is a woman-owned small business who...   \n",
       "35     We help teachers get safe &amp; secure jobs ab...   \n",
       "36     We help teachers get safe &amp; secure jobs ab...   \n",
       "40     We help teachers get safe &amp; secure jobs ab...   \n",
       "41     We help teachers get safe &amp; secure jobs ab...   \n",
       "...                                                  ...   \n",
       "17772                                                NaN   \n",
       "17805                                                NaN   \n",
       "17817                                                NaN   \n",
       "17839                                                NaN   \n",
       "17845  Magmic is a leading developer and publisher of...   \n",
       "\n",
       "                                             description  \\\n",
       "8      Implementation/Configuration/Testing/Training ...   \n",
       "35     Play with kids, get paid for it Love travel? J...   \n",
       "36     Play with kids, get paid for it :-)Love travel...   \n",
       "40     Play with kids, get paid for it Love travel? J...   \n",
       "41     Play with kids, get paid for it Love travel? J...   \n",
       "...                                                  ...   \n",
       "17772  International media company looking for motiva...   \n",
       "17805  We the Montcalm Hotel are looking for the posi...   \n",
       "17817  Now hiring CSR / Advertising representatives t...   \n",
       "17839  Job Title: SAS Grid DeveloperDuration: 06+ mon...   \n",
       "17845  Junior Game Designer responsibilities include:...   \n",
       "\n",
       "                                            requirements  telecommuting  \\\n",
       "8      MUST BE A US CITIZEN.An active TS/SCI clearanc...              0   \n",
       "35     University degree required. TEFL / TESOL / CEL...              0   \n",
       "36     University degree required. TEFL / TESOL / CEL...              0   \n",
       "40     University degree required. TEFL / TESOL / CEL...              0   \n",
       "41     University degree required. TEFL / TESOL / CEL...              0   \n",
       "...                                                  ...            ...   \n",
       "17772  highly motivated to create successprofessional...              0   \n",
       "17805                                   Good Requirement              0   \n",
       "17817                                                NaN              0   \n",
       "17839  Mandatory Technical /Functional Skills:• IT ex...              0   \n",
       "17845  Keen interest in the casual gaming and mobile ...              0   \n",
       "\n",
       "       has_company_logo  has_questions employment_type required_experience  \\\n",
       "8                     1              1       Full-time           Associate   \n",
       "35                    1              1        Contract                 NaN   \n",
       "36                    1              0        Contract                 NaN   \n",
       "40                    1              1        Contract                 NaN   \n",
       "41                    1              1        Contract                 NaN   \n",
       "...                 ...            ...             ...                 ...   \n",
       "17772                 0              1           Other      Not Applicable   \n",
       "17805                 0              0       Full-time         Entry level   \n",
       "17817                 0              0       Part-time         Entry level   \n",
       "17839                 0              0        Contract    Mid-Senior level   \n",
       "17845                 1              0       Full-time         Entry level   \n",
       "\n",
       "      required_education                             industry function  \\\n",
       "8                    NaN  Information Technology and Services      NaN   \n",
       "35     Bachelor's Degree                 Education Management      NaN   \n",
       "36     Bachelor's Degree                 Education Management      NaN   \n",
       "40     Bachelor's Degree                 Education Management      NaN   \n",
       "41     Bachelor's Degree                 Education Management      NaN   \n",
       "...                  ...                                  ...      ...   \n",
       "17772        Unspecified            Marketing and Advertising      NaN   \n",
       "17805                NaN                          Hospitality      NaN   \n",
       "17817                NaN                         Online Media      NaN   \n",
       "17839                NaN                                  NaN      NaN   \n",
       "17845                NaN                                  NaN      NaN   \n",
       "\n",
       "       fraudulent  \n",
       "8               0  \n",
       "35              0  \n",
       "36              0  \n",
       "40              0  \n",
       "41              0  \n",
       "...           ...  \n",
       "17772           1  \n",
       "17805           1  \n",
       "17817           1  \n",
       "17839           0  \n",
       "17845           0  \n",
       "\n",
       "[1868 rows x 15 columns]"
      ]
     },
     "execution_count": 20,
     "metadata": {},
     "output_type": "execute_result"
    }
   ],
   "source": [
    "df_clean[df['function'].isnull()==True]"
   ]
  },
  {
   "cell_type": "code",
   "execution_count": 29,
   "id": "ee6009d1",
   "metadata": {},
   "outputs": [
    {
     "data": {
      "text/plain": [
       "Information Technology    1749\n",
       "Sales                     1468\n",
       "Engineering               1348\n",
       "Customer Service          1229\n",
       "Marketing                  830\n",
       "Administrative             630\n",
       "Design                     340\n",
       "Health Care Provider       338\n",
       "Other                      325\n",
       "Education                  325\n",
       "Management                 317\n",
       "Business Development       228\n",
       "Accounting/Auditing        212\n",
       "Human Resources            205\n",
       "Project Management         183\n",
       "Finance                    172\n",
       "Consulting                 144\n",
       "Writing/Editing            132\n",
       "Art/Creative               132\n",
       "Production                 116\n",
       "Product Management         114\n",
       "Quality Assurance          111\n",
       "Advertising                 90\n",
       "Business Analyst            84\n",
       "Data Analyst                82\n",
       "Public Relations            76\n",
       "Manufacturing               74\n",
       "General Business            68\n",
       "Research                    50\n",
       "Legal                       47\n",
       "Strategy/Planning           46\n",
       "Training                    38\n",
       "Supply Chain                36\n",
       "Financial Analyst           33\n",
       "Distribution                24\n",
       "Purchasing                  15\n",
       "Science                     14\n",
       "Name: function, dtype: int64"
      ]
     },
     "execution_count": 29,
     "metadata": {},
     "output_type": "execute_result"
    }
   ],
   "source": [
    "df_clean['function'].value_counts()"
   ]
  },
  {
   "cell_type": "code",
   "execution_count": 34,
   "id": "8b591620",
   "metadata": {
    "scrolled": true
   },
   "outputs": [
    {
     "data": {
      "text/plain": [
       "English Teacher Abroad                                311\n",
       "Customer Service Associate                            146\n",
       "Graduates: English Teacher Abroad (Conversational)    144\n",
       "English Teacher Abroad                                 95\n",
       "English Teacher Abroad (Conversational)                83\n",
       "Customer Service Associate - Part Time                 76\n",
       "Account Manager                                        67\n",
       "Graduates: English Teacher Abroad                      57\n",
       "Software Engineer                                      53\n",
       "Web Developer                                          52\n",
       "Customer Service Representative                        48\n",
       "Customer Service Associate                             44\n",
       "Sales Representative                                   41\n",
       "Administrative Assistant                               40\n",
       "Customer Service Team Lead                             40\n",
       "Project Manager                                        40\n",
       "Account Executive                                      38\n",
       "Office Manager                                         38\n",
       "Marketing Manager                                      38\n",
       "Product Manager                                        37\n",
       "Senior Software Engineer                               37\n",
       "iOS Developer                                          31\n",
       "Contact Center Representatives                         31\n",
       "Front End Developer                                    31\n",
       "Software Developer                                     30\n",
       "Customer Service Technical Specialist                  26\n",
       "Entry Level Sales                                      26\n",
       "Data Scientist                                         23\n",
       "Web Designer                                           23\n",
       "Business Development Manager                           23\n",
       "Android Developer                                      21\n",
       "PHP Developer                                          21\n",
       "English Teacher Overseas                               21\n",
       "Java Developer                                         21\n",
       "DevOps Engineer                                        20\n",
       "Physical Therapist                                     20\n",
       "Data Analyst                                           19\n",
       "Collections Supervisor                                 19\n",
       "QA Engineer                                            19\n",
       "Graphic Designer                                       19\n",
       "Business Analyst                                       19\n",
       "Sales Director                                         18\n",
       "Associate Business Development                         17\n",
       "Sales Manager                                          17\n",
       "Systems Engineer                                       17\n",
       "Executive Assistant                                    17\n",
       "Marketing Representative                               17\n",
       "Agent-Inbound Sales Position                           16\n",
       "Sales Executive                                        16\n",
       "Accountant                                             16\n",
       "Customer Service Associate - On Call                   16\n",
       "Marketing Associate                                    16\n",
       "UI/UX Designer                                         15\n",
       "Customer Service Associate - Part Time                 15\n",
       "Inside Sales Representative                            15\n",
       "Marketing Intern                                       15\n",
       "UX Designer                                            14\n",
       "Community Manager                                      14\n",
       "Head of Marketing                                      14\n",
       "Product Designer                                       14\n",
       "Name: title, dtype: int64"
      ]
     },
     "execution_count": 34,
     "metadata": {},
     "output_type": "execute_result"
    }
   ],
   "source": [
    "df_clean['title'].value_counts().head(60)"
   ]
  },
  {
   "cell_type": "code",
   "execution_count": 13,
   "id": "15b25df0",
   "metadata": {
    "scrolled": false
   },
   "outputs": [
    {
     "data": {
      "text/plain": [
       "Mid-Senior level    3809\n",
       "Entry level         2697\n",
       "Associate           2297\n",
       "Not Applicable      1116\n",
       "Director             389\n",
       "Internship           381\n",
       "Executive            141\n",
       "Name: required_experience, dtype: int64"
      ]
     },
     "execution_count": 13,
     "metadata": {},
     "output_type": "execute_result"
    }
   ],
   "source": [
    "df_clean['required_experience'].value_counts()"
   ]
  },
  {
   "cell_type": "code",
   "execution_count": 14,
   "id": "ddc46cf8",
   "metadata": {},
   "outputs": [
    {
     "data": {
      "text/plain": [
       "['Internship',\n",
       " 'Not Applicable',\n",
       " 'Mid-Senior level',\n",
       " 'Associate',\n",
       " 'Entry level',\n",
       " 'Executive',\n",
       " nan,\n",
       " 'Director']"
      ]
     },
     "execution_count": 14,
     "metadata": {},
     "output_type": "execute_result"
    }
   ],
   "source": [
    "lst = list(df_clean['required_experience'].unique())\n",
    "lst"
   ]
  },
  {
   "cell_type": "code",
   "execution_count": 15,
   "id": "5cbe3dd5",
   "metadata": {},
   "outputs": [
    {
     "name": "stdout",
     "output_type": "stream",
     "text": [
      "Bachelor's Degree\n",
      "Unspecified\n",
      "Master's Degree\n",
      "High School or equivalent\n",
      "Certification\n",
      "Associate Degree\n",
      "Professional\n",
      "Vocational\n",
      "Doctorate\n",
      "Some College Coursework Completed\n",
      "Vocational - Degree\n",
      "Some High School Coursework\n",
      "Vocational - HS Diploma\n"
     ]
    }
   ],
   "source": [
    "dic = dict(df_clean.loc[df_clean['required_experience']=='Mid-Senior level']['required_education'].value_counts())\n",
    "for j in dic:\n",
    "    print(j)"
   ]
  },
  {
   "cell_type": "code",
   "execution_count": 16,
   "id": "edc96946",
   "metadata": {},
   "outputs": [
    {
     "name": "stdout",
     "output_type": "stream",
     "text": [
      "Bachelor's Degree                    94\n",
      "Some College Coursework Completed    47\n",
      "Unspecified                          42\n",
      "High School or equivalent            39\n",
      "Master's Degree                      13\n",
      "Associate Degree                      6\n",
      "Certification                         4\n",
      "Professional                          3\n",
      "Vocational                            1\n",
      "Name: required_education, dtype: int64\n",
      "High School or equivalent            371\n",
      "Unspecified                          318\n",
      "Bachelor's Degree                    140\n",
      "Certification                         39\n",
      "Master's Degree                        9\n",
      "Professional                           8\n",
      "Some College Coursework Completed      6\n",
      "Vocational                             2\n",
      "Associate Degree                       2\n",
      "Some High School Coursework            1\n",
      "Vocational - Degree                    1\n",
      "Name: required_education, dtype: int64\n",
      "Bachelor's Degree                    1994\n",
      "Unspecified                           367\n",
      "Master's Degree                       158\n",
      "High School or equivalent             123\n",
      "Certification                          44\n",
      "Associate Degree                       43\n",
      "Professional                           30\n",
      "Vocational                             14\n",
      "Doctorate                              11\n",
      "Some College Coursework Completed       5\n",
      "Vocational - Degree                     3\n",
      "Some High School Coursework             1\n",
      "Vocational - HS Diploma                 1\n",
      "Name: required_education, dtype: int64\n",
      "Bachelor's Degree                    1021\n",
      "Unspecified                           289\n",
      "High School or equivalent             243\n",
      "Associate Degree                      133\n",
      "Master's Degree                        52\n",
      "Certification                          35\n",
      "Some College Coursework Completed      21\n",
      "Vocational                             17\n",
      "Professional                           17\n",
      "Doctorate                               7\n",
      "Vocational - HS Diploma                 1\n",
      "Name: required_education, dtype: int64\n",
      "High School or equivalent            1193\n",
      "Bachelor's Degree                     710\n",
      "Unspecified                           276\n",
      "Associate Degree                       57\n",
      "Some High School Coursework            23\n",
      "Certification                          22\n",
      "Master's Degree                        21\n",
      "Some College Coursework Completed      20\n",
      "Vocational                             11\n",
      "Doctorate                               2\n",
      "Vocational - Degree                     2\n",
      "Professional                            2\n",
      "Vocational - HS Diploma                 2\n",
      "Name: required_education, dtype: int64\n",
      "Bachelor's Degree            64\n",
      "Master's Degree              22\n",
      "Unspecified                   5\n",
      "Doctorate                     3\n",
      "Professional                  3\n",
      "Associate Degree              1\n",
      "High School or equivalent     1\n",
      "Name: required_education, dtype: int64\n",
      "Series([], Name: required_education, dtype: int64)\n",
      "Bachelor's Degree                    189\n",
      "Master's Degree                       57\n",
      "Unspecified                           30\n",
      "Associate Degree                       8\n",
      "Professional                           4\n",
      "Doctorate                              2\n",
      "High School or equivalent              2\n",
      "Certification                          2\n",
      "Some College Coursework Completed      1\n",
      "Name: required_education, dtype: int64\n"
     ]
    }
   ],
   "source": [
    "for i in lst:\n",
    "    j = df_clean.loc[df_clean['required_experience']==i]['required_education'].value_counts()\n",
    "    print(j)"
   ]
  },
  {
   "cell_type": "code",
   "execution_count": null,
   "id": "d6fa30f4",
   "metadata": {},
   "outputs": [],
   "source": []
  }
 ],
 "metadata": {
  "kernelspec": {
   "display_name": "Python 3 (ipykernel)",
   "language": "python",
   "name": "python3"
  },
  "language_info": {
   "codemirror_mode": {
    "name": "ipython",
    "version": 3
   },
   "file_extension": ".py",
   "mimetype": "text/x-python",
   "name": "python",
   "nbconvert_exporter": "python",
   "pygments_lexer": "ipython3",
   "version": "3.9.13"
  }
 },
 "nbformat": 4,
 "nbformat_minor": 5
}
