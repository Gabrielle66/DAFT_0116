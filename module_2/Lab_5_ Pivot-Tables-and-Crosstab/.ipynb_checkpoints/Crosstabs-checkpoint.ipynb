{
 "cells": [
  {
   "cell_type": "code",
   "execution_count": 1,
   "metadata": {},
   "outputs": [],
   "source": [
    "# Import Libraries"
   ]
  },
  {
   "cell_type": "code",
   "execution_count": 22,
   "metadata": {},
   "outputs": [],
   "source": [
    "import numpy as np\n",
    "import pandas as pd\n",
    "import matplotlib.pyplot as plt"
   ]
  },
  {
   "cell_type": "markdown",
   "metadata": {},
   "source": [
    "### 1. Import the moovies dataset "
   ]
  },
  {
   "cell_type": "markdown",
   "metadata": {},
   "source": [
    "# https://www.kaggle.com/carolzhangdc/imdb-5000-movie-dataset"
   ]
  },
  {
   "cell_type": "code",
   "execution_count": 25,
   "metadata": {},
   "outputs": [],
   "source": [
    "data = pd.read_csv(r'\\Users\\farah\\DAFT_0116\\module_2\\Lab_5_ Pivot-Tables-and-Crosstab\\movie_metadata.csv')"
   ]
  },
  {
   "cell_type": "code",
   "execution_count": 26,
   "metadata": {},
   "outputs": [
    {
     "data": {
      "text/html": [
       "<div>\n",
       "<style scoped>\n",
       "    .dataframe tbody tr th:only-of-type {\n",
       "        vertical-align: middle;\n",
       "    }\n",
       "\n",
       "    .dataframe tbody tr th {\n",
       "        vertical-align: top;\n",
       "    }\n",
       "\n",
       "    .dataframe thead th {\n",
       "        text-align: right;\n",
       "    }\n",
       "</style>\n",
       "<table border=\"1\" class=\"dataframe\">\n",
       "  <thead>\n",
       "    <tr style=\"text-align: right;\">\n",
       "      <th></th>\n",
       "      <th>color</th>\n",
       "      <th>director_name</th>\n",
       "      <th>num_critic_for_reviews</th>\n",
       "      <th>duration</th>\n",
       "      <th>director_facebook_likes</th>\n",
       "      <th>actor_3_facebook_likes</th>\n",
       "      <th>actor_2_name</th>\n",
       "      <th>actor_1_facebook_likes</th>\n",
       "      <th>gross</th>\n",
       "      <th>genres</th>\n",
       "      <th>...</th>\n",
       "      <th>num_user_for_reviews</th>\n",
       "      <th>language</th>\n",
       "      <th>country</th>\n",
       "      <th>content_rating</th>\n",
       "      <th>budget</th>\n",
       "      <th>title_year</th>\n",
       "      <th>actor_2_facebook_likes</th>\n",
       "      <th>imdb_score</th>\n",
       "      <th>aspect_ratio</th>\n",
       "      <th>movie_facebook_likes</th>\n",
       "    </tr>\n",
       "  </thead>\n",
       "  <tbody>\n",
       "    <tr>\n",
       "      <th>0</th>\n",
       "      <td>Color</td>\n",
       "      <td>James Cameron</td>\n",
       "      <td>723.0</td>\n",
       "      <td>178.0</td>\n",
       "      <td>0.0</td>\n",
       "      <td>855.0</td>\n",
       "      <td>Joel David Moore</td>\n",
       "      <td>1000.0</td>\n",
       "      <td>760505847.0</td>\n",
       "      <td>Action|Adventure|Fantasy|Sci-Fi</td>\n",
       "      <td>...</td>\n",
       "      <td>3054.0</td>\n",
       "      <td>English</td>\n",
       "      <td>USA</td>\n",
       "      <td>PG-13</td>\n",
       "      <td>237000000.0</td>\n",
       "      <td>2009.0</td>\n",
       "      <td>936.0</td>\n",
       "      <td>7.9</td>\n",
       "      <td>1.78</td>\n",
       "      <td>33000</td>\n",
       "    </tr>\n",
       "    <tr>\n",
       "      <th>1</th>\n",
       "      <td>Color</td>\n",
       "      <td>Gore Verbinski</td>\n",
       "      <td>302.0</td>\n",
       "      <td>169.0</td>\n",
       "      <td>563.0</td>\n",
       "      <td>1000.0</td>\n",
       "      <td>Orlando Bloom</td>\n",
       "      <td>40000.0</td>\n",
       "      <td>309404152.0</td>\n",
       "      <td>Action|Adventure|Fantasy</td>\n",
       "      <td>...</td>\n",
       "      <td>1238.0</td>\n",
       "      <td>English</td>\n",
       "      <td>USA</td>\n",
       "      <td>PG-13</td>\n",
       "      <td>300000000.0</td>\n",
       "      <td>2007.0</td>\n",
       "      <td>5000.0</td>\n",
       "      <td>7.1</td>\n",
       "      <td>2.35</td>\n",
       "      <td>0</td>\n",
       "    </tr>\n",
       "    <tr>\n",
       "      <th>2</th>\n",
       "      <td>Color</td>\n",
       "      <td>Sam Mendes</td>\n",
       "      <td>602.0</td>\n",
       "      <td>148.0</td>\n",
       "      <td>0.0</td>\n",
       "      <td>161.0</td>\n",
       "      <td>Rory Kinnear</td>\n",
       "      <td>11000.0</td>\n",
       "      <td>200074175.0</td>\n",
       "      <td>Action|Adventure|Thriller</td>\n",
       "      <td>...</td>\n",
       "      <td>994.0</td>\n",
       "      <td>English</td>\n",
       "      <td>UK</td>\n",
       "      <td>PG-13</td>\n",
       "      <td>245000000.0</td>\n",
       "      <td>2015.0</td>\n",
       "      <td>393.0</td>\n",
       "      <td>6.8</td>\n",
       "      <td>2.35</td>\n",
       "      <td>85000</td>\n",
       "    </tr>\n",
       "  </tbody>\n",
       "</table>\n",
       "<p>3 rows × 28 columns</p>\n",
       "</div>"
      ],
      "text/plain": [
       "   color   director_name  num_critic_for_reviews  duration  \\\n",
       "0  Color   James Cameron                   723.0     178.0   \n",
       "1  Color  Gore Verbinski                   302.0     169.0   \n",
       "2  Color      Sam Mendes                   602.0     148.0   \n",
       "\n",
       "   director_facebook_likes  actor_3_facebook_likes      actor_2_name  \\\n",
       "0                      0.0                   855.0  Joel David Moore   \n",
       "1                    563.0                  1000.0     Orlando Bloom   \n",
       "2                      0.0                   161.0      Rory Kinnear   \n",
       "\n",
       "   actor_1_facebook_likes        gross                           genres  ...  \\\n",
       "0                  1000.0  760505847.0  Action|Adventure|Fantasy|Sci-Fi  ...   \n",
       "1                 40000.0  309404152.0         Action|Adventure|Fantasy  ...   \n",
       "2                 11000.0  200074175.0        Action|Adventure|Thriller  ...   \n",
       "\n",
       "  num_user_for_reviews language  country  content_rating       budget  \\\n",
       "0               3054.0  English      USA           PG-13  237000000.0   \n",
       "1               1238.0  English      USA           PG-13  300000000.0   \n",
       "2                994.0  English       UK           PG-13  245000000.0   \n",
       "\n",
       "   title_year actor_2_facebook_likes imdb_score  aspect_ratio  \\\n",
       "0      2009.0                  936.0        7.9          1.78   \n",
       "1      2007.0                 5000.0        7.1          2.35   \n",
       "2      2015.0                  393.0        6.8          2.35   \n",
       "\n",
       "  movie_facebook_likes  \n",
       "0                33000  \n",
       "1                    0  \n",
       "2                85000  \n",
       "\n",
       "[3 rows x 28 columns]"
      ]
     },
     "execution_count": 26,
     "metadata": {},
     "output_type": "execute_result"
    }
   ],
   "source": [
    "data.head(3)"
   ]
  },
  {
   "cell_type": "markdown",
   "metadata": {},
   "source": [
    "### 2. Use crosstabs to show the number of moovies per country"
   ]
  },
  {
   "cell_type": "code",
   "execution_count": 28,
   "metadata": {},
   "outputs": [
    {
     "name": "stdout",
     "output_type": "stream",
     "text": [
      "col_0                 count\n",
      "country                    \n",
      "Afghanistan               1\n",
      "Argentina                 4\n",
      "Aruba                     1\n",
      "Australia                55\n",
      "Bahamas                   1\n",
      "...                     ...\n",
      "Turkey                    1\n",
      "UK                      448\n",
      "USA                    3807\n",
      "United Arab Emirates      1\n",
      "West Germany              3\n",
      "\n",
      "[65 rows x 1 columns]\n"
     ]
    }
   ],
   "source": [
    "country_crosstab = pd.crosstab(index=df['country'], columns='count', dropna=True)\n",
    "print(country_crosstab)"
   ]
  },
  {
   "cell_type": "markdown",
   "metadata": {},
   "source": [
    "### 3. Create a crosstab to show the number of films per director and genre splitted by country"
   ]
  },
  {
   "cell_type": "code",
   "execution_count": 33,
   "metadata": {},
   "outputs": [],
   "source": [
    "films_crosstab = pd.crosstab([df['director_name'], df['genres']], df['country'], margins=True, margins_name='Total')"
   ]
  },
  {
   "cell_type": "code",
   "execution_count": 34,
   "metadata": {},
   "outputs": [
    {
     "name": "stdout",
     "output_type": "stream",
     "text": [
      "country                                                    Afghanistan  \\\n",
      "director_name      genres                                                \n",
      "A. Raven Cruz      Action|Adventure|Comedy|Fantasy|Sci-Fi            0   \n",
      "Aaron Hann         Drama|Horror|Mystery|Sci-Fi|Thriller              0   \n",
      "Aaron Schneider    Drama|Mystery                                     0   \n",
      "Aaron Seltzer      Comedy|Romance                                    0   \n",
      "Abel Ferrara       Crime|Drama                                       0   \n",
      "...                                                                ...   \n",
      "Álex de la Iglesia Crime|Mystery|Thriller                            0   \n",
      "Émile Gaudreault   Comedy|Drama                                      0   \n",
      "Éric Tessier       Action|Drama|Horror|Thriller                      0   \n",
      "Étienne Faure      Drama|Musical|Romance                             0   \n",
      "Total                                                                1   \n",
      "\n",
      "country                                                    Argentina  Aruba  \\\n",
      "director_name      genres                                                     \n",
      "A. Raven Cruz      Action|Adventure|Comedy|Fantasy|Sci-Fi          0      0   \n",
      "Aaron Hann         Drama|Horror|Mystery|Sci-Fi|Thriller            0      0   \n",
      "Aaron Schneider    Drama|Mystery                                   0      0   \n",
      "Aaron Seltzer      Comedy|Romance                                  0      0   \n",
      "Abel Ferrara       Crime|Drama                                     0      0   \n",
      "...                                                              ...    ...   \n",
      "Álex de la Iglesia Crime|Mystery|Thriller                          0      0   \n",
      "Émile Gaudreault   Comedy|Drama                                    0      0   \n",
      "Éric Tessier       Action|Drama|Horror|Thriller                    0      0   \n",
      "Étienne Faure      Drama|Musical|Romance                           0      0   \n",
      "Total                                                              4      1   \n",
      "\n",
      "country                                                    Australia  Bahamas  \\\n",
      "director_name      genres                                                       \n",
      "A. Raven Cruz      Action|Adventure|Comedy|Fantasy|Sci-Fi          0        0   \n",
      "Aaron Hann         Drama|Horror|Mystery|Sci-Fi|Thriller            0        0   \n",
      "Aaron Schneider    Drama|Mystery                                   0        0   \n",
      "Aaron Seltzer      Comedy|Romance                                  0        0   \n",
      "Abel Ferrara       Crime|Drama                                     0        0   \n",
      "...                                                              ...      ...   \n",
      "Álex de la Iglesia Crime|Mystery|Thriller                          0        0   \n",
      "Émile Gaudreault   Comedy|Drama                                    0        0   \n",
      "Éric Tessier       Action|Drama|Horror|Thriller                    0        0   \n",
      "Étienne Faure      Drama|Musical|Romance                           0        0   \n",
      "Total                                                             53        1   \n",
      "\n",
      "country                                                    Belgium  Brazil  \\\n",
      "director_name      genres                                                    \n",
      "A. Raven Cruz      Action|Adventure|Comedy|Fantasy|Sci-Fi        0       0   \n",
      "Aaron Hann         Drama|Horror|Mystery|Sci-Fi|Thriller          0       0   \n",
      "Aaron Schneider    Drama|Mystery                                 0       0   \n",
      "Aaron Seltzer      Comedy|Romance                                0       0   \n",
      "Abel Ferrara       Crime|Drama                                   0       0   \n",
      "...                                                            ...     ...   \n",
      "Álex de la Iglesia Crime|Mystery|Thriller                        0       0   \n",
      "Émile Gaudreault   Comedy|Drama                                  0       0   \n",
      "Éric Tessier       Action|Drama|Horror|Thriller                  0       0   \n",
      "Étienne Faure      Drama|Musical|Romance                         0       0   \n",
      "Total                                                            4       8   \n",
      "\n",
      "country                                                    Bulgaria  Cambodia  \\\n",
      "director_name      genres                                                       \n",
      "A. Raven Cruz      Action|Adventure|Comedy|Fantasy|Sci-Fi         0         0   \n",
      "Aaron Hann         Drama|Horror|Mystery|Sci-Fi|Thriller           0         0   \n",
      "Aaron Schneider    Drama|Mystery                                  0         0   \n",
      "Aaron Seltzer      Comedy|Romance                                 0         0   \n",
      "Abel Ferrara       Crime|Drama                                    0         0   \n",
      "...                                                             ...       ...   \n",
      "Álex de la Iglesia Crime|Mystery|Thriller                         0         0   \n",
      "Émile Gaudreault   Comedy|Drama                                   0         0   \n",
      "Éric Tessier       Action|Drama|Horror|Thriller                   0         0   \n",
      "Étienne Faure      Drama|Musical|Romance                          0         0   \n",
      "Total                                                             1         1   \n",
      "\n",
      "country                                                    Cameroon  ...  \\\n",
      "director_name      genres                                            ...   \n",
      "A. Raven Cruz      Action|Adventure|Comedy|Fantasy|Sci-Fi         0  ...   \n",
      "Aaron Hann         Drama|Horror|Mystery|Sci-Fi|Thriller           0  ...   \n",
      "Aaron Schneider    Drama|Mystery                                  0  ...   \n",
      "Aaron Seltzer      Comedy|Romance                                 0  ...   \n",
      "Abel Ferrara       Crime|Drama                                    0  ...   \n",
      "...                                                             ...  ...   \n",
      "Álex de la Iglesia Crime|Mystery|Thriller                         0  ...   \n",
      "Émile Gaudreault   Comedy|Drama                                   0  ...   \n",
      "Éric Tessier       Action|Drama|Horror|Thriller                   0  ...   \n",
      "Étienne Faure      Drama|Musical|Romance                          0  ...   \n",
      "Total                                                             1  ...   \n",
      "\n",
      "country                                                    Sweden  \\\n",
      "director_name      genres                                           \n",
      "A. Raven Cruz      Action|Adventure|Comedy|Fantasy|Sci-Fi       0   \n",
      "Aaron Hann         Drama|Horror|Mystery|Sci-Fi|Thriller         0   \n",
      "Aaron Schneider    Drama|Mystery                                0   \n",
      "Aaron Seltzer      Comedy|Romance                               0   \n",
      "Abel Ferrara       Crime|Drama                                  0   \n",
      "...                                                           ...   \n",
      "Álex de la Iglesia Crime|Mystery|Thriller                       0   \n",
      "Émile Gaudreault   Comedy|Drama                                 0   \n",
      "Éric Tessier       Action|Drama|Horror|Thriller                 0   \n",
      "Étienne Faure      Drama|Musical|Romance                        0   \n",
      "Total                                                           6   \n",
      "\n",
      "country                                                    Switzerland  \\\n",
      "director_name      genres                                                \n",
      "A. Raven Cruz      Action|Adventure|Comedy|Fantasy|Sci-Fi            0   \n",
      "Aaron Hann         Drama|Horror|Mystery|Sci-Fi|Thriller              0   \n",
      "Aaron Schneider    Drama|Mystery                                     0   \n",
      "Aaron Seltzer      Comedy|Romance                                    0   \n",
      "Abel Ferrara       Crime|Drama                                       0   \n",
      "...                                                                ...   \n",
      "Álex de la Iglesia Crime|Mystery|Thriller                            0   \n",
      "Émile Gaudreault   Comedy|Drama                                      0   \n",
      "Éric Tessier       Action|Drama|Horror|Thriller                      0   \n",
      "Étienne Faure      Drama|Musical|Romance                             0   \n",
      "Total                                                                3   \n",
      "\n",
      "country                                                    Taiwan  Thailand  \\\n",
      "director_name      genres                                                     \n",
      "A. Raven Cruz      Action|Adventure|Comedy|Fantasy|Sci-Fi       0         0   \n",
      "Aaron Hann         Drama|Horror|Mystery|Sci-Fi|Thriller         0         0   \n",
      "Aaron Schneider    Drama|Mystery                                0         0   \n",
      "Aaron Seltzer      Comedy|Romance                               0         0   \n",
      "Abel Ferrara       Crime|Drama                                  0         0   \n",
      "...                                                           ...       ...   \n",
      "Álex de la Iglesia Crime|Mystery|Thriller                       0         0   \n",
      "Émile Gaudreault   Comedy|Drama                                 0         0   \n",
      "Éric Tessier       Action|Drama|Horror|Thriller                 0         0   \n",
      "Étienne Faure      Drama|Musical|Romance                        0         0   \n",
      "Total                                                           2         5   \n",
      "\n",
      "country                                                    Turkey   UK   USA  \\\n",
      "director_name      genres                                                      \n",
      "A. Raven Cruz      Action|Adventure|Comedy|Fantasy|Sci-Fi       0    0     1   \n",
      "Aaron Hann         Drama|Horror|Mystery|Sci-Fi|Thriller         0    0     1   \n",
      "Aaron Schneider    Drama|Mystery                                0    0     1   \n",
      "Aaron Seltzer      Comedy|Romance                               0    0     1   \n",
      "Abel Ferrara       Crime|Drama                                  0    0     1   \n",
      "...                                                           ...  ...   ...   \n",
      "Álex de la Iglesia Crime|Mystery|Thriller                       0    0     0   \n",
      "Émile Gaudreault   Comedy|Drama                                 0    0     0   \n",
      "Éric Tessier       Action|Drama|Horror|Thriller                 0    0     0   \n",
      "Étienne Faure      Drama|Musical|Romance                        0    0     0   \n",
      "Total                                                           1  434  3733   \n",
      "\n",
      "country                                                    United Arab Emirates  \\\n",
      "director_name      genres                                                         \n",
      "A. Raven Cruz      Action|Adventure|Comedy|Fantasy|Sci-Fi                     0   \n",
      "Aaron Hann         Drama|Horror|Mystery|Sci-Fi|Thriller                       0   \n",
      "Aaron Schneider    Drama|Mystery                                              0   \n",
      "Aaron Seltzer      Comedy|Romance                                             0   \n",
      "Abel Ferrara       Crime|Drama                                                0   \n",
      "...                                                                         ...   \n",
      "Álex de la Iglesia Crime|Mystery|Thriller                                     0   \n",
      "Émile Gaudreault   Comedy|Drama                                               0   \n",
      "Éric Tessier       Action|Drama|Horror|Thriller                               0   \n",
      "Étienne Faure      Drama|Musical|Romance                                      0   \n",
      "Total                                                                         1   \n",
      "\n",
      "country                                                    West Germany  Total  \n",
      "director_name      genres                                                       \n",
      "A. Raven Cruz      Action|Adventure|Comedy|Fantasy|Sci-Fi             0      1  \n",
      "Aaron Hann         Drama|Horror|Mystery|Sci-Fi|Thriller               0      1  \n",
      "Aaron Schneider    Drama|Mystery                                      0      1  \n",
      "Aaron Seltzer      Comedy|Romance                                     0      1  \n",
      "Abel Ferrara       Crime|Drama                                        0      1  \n",
      "...                                                                 ...    ...  \n",
      "Álex de la Iglesia Crime|Mystery|Thriller                             0      1  \n",
      "Émile Gaudreault   Comedy|Drama                                       0      1  \n",
      "Éric Tessier       Action|Drama|Horror|Thriller                       0      1  \n",
      "Étienne Faure      Drama|Musical|Romance                              0      1  \n",
      "Total                                                                 3   4936  \n",
      "\n",
      "[4462 rows x 66 columns]\n"
     ]
    }
   ],
   "source": [
    "print(films_crosstab)"
   ]
  },
  {
   "cell_type": "markdown",
   "metadata": {},
   "source": [
    "### 4. Average duration of filmes grouped by color"
   ]
  },
  {
   "cell_type": "code",
   "execution_count": 35,
   "metadata": {},
   "outputs": [],
   "source": [
    "grouped = df.groupby(by='color').mean()['duration']"
   ]
  },
  {
   "cell_type": "code",
   "execution_count": 36,
   "metadata": {},
   "outputs": [
    {
     "name": "stdout",
     "output_type": "stream",
     "text": [
      "color\n",
      " Black and White    112.253589\n",
      "Color               107.042908\n",
      "Name: duration, dtype: float64\n"
     ]
    }
   ],
   "source": [
    "print(grouped)"
   ]
  },
  {
   "cell_type": "markdown",
   "metadata": {},
   "source": [
    "### 5. Average number of likes per director (assuming that total film's likes are counted as a sum of actor's likes)"
   ]
  },
  {
   "cell_type": "code",
   "execution_count": 37,
   "metadata": {},
   "outputs": [
    {
     "name": "stdout",
     "output_type": "stream",
     "text": [
      "director_name\n",
      "A. Raven Cruz          1094.0\n",
      "Aaron Hann              406.0\n",
      "Aaron Schneider       16981.0\n",
      "Aaron Seltzer          4662.0\n",
      "Abel Ferrara           2418.0\n",
      "                       ...   \n",
      "Zoran Lisinac           870.0\n",
      "Álex de la Iglesia      977.0\n",
      "Émile Gaudreault        926.0\n",
      "Éric Tessier             72.0\n",
      "Étienne Faure            96.0\n",
      "Name: total_likes, Length: 2398, dtype: float64\n"
     ]
    }
   ],
   "source": [
    "#Create a new column to represent the total number of likes\n",
    "df['total_likes'] = df['director_facebook_likes'] + df['actor_1_facebook_likes'] + df['actor_2_facebook_likes'] + df['actor_3_facebook_likes']\n",
    "\n",
    "# Group the data by director name and calculate the average total likes\n",
    "grouped = df.groupby(by='director_name').mean()['total_likes']\n",
    "\n",
    "# Show the result\n",
    "print(grouped)"
   ]
  },
  {
   "cell_type": "code",
   "execution_count": null,
   "metadata": {},
   "outputs": [],
   "source": []
  }
 ],
 "metadata": {
  "kernelspec": {
   "display_name": "Python 3 (ipykernel)",
   "language": "python",
   "name": "python3"
  },
  "language_info": {
   "codemirror_mode": {
    "name": "ipython",
    "version": 3
   },
   "file_extension": ".py",
   "mimetype": "text/x-python",
   "name": "python",
   "nbconvert_exporter": "python",
   "pygments_lexer": "ipython3",
   "version": "3.9.13"
  }
 },
 "nbformat": 4,
 "nbformat_minor": 2
}
