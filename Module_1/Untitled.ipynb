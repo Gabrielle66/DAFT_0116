{
 "cells": [
  {
   "cell_type": "code",
   "execution_count": 1,
   "id": "3cf87430",
   "metadata": {},
   "outputs": [],
   "source": [
    "from statistics import mean"
   ]
  },
  {
   "cell_type": "code",
   "execution_count": 4,
   "id": "29f71e80",
   "metadata": {},
   "outputs": [
    {
     "name": "stdout",
     "output_type": "stream",
     "text": [
      "Choose n, the number of integers you want to input:1\n",
      "Please provide your integer, entering 0 will end your inputs:2\n",
      "The sum is: 2 The mean is: 2\n"
     ]
    }
   ],
   "source": [
    "n = int(input(\"Choose n, the number of integers you want to input:\"))\n",
    "user_input = []\n",
    "for i in range(n):\n",
    "    j = int(input(\"Please provide your integer, entering 0 will end your inputs:\"))\n",
    "    if j == 0:\n",
    "        break\n",
    "    else:\n",
    "        user_input.append(j)\n",
    "print(\"The sum is:\", sum(user_input), \"The mean is:\", mean(user_input))"
   ]
  },
  {
   "cell_type": "code",
   "execution_count": null,
   "id": "0be3fb73",
   "metadata": {},
   "outputs": [],
   "source": [
    "#import statistics as mean\n",
    "import numpy as np\n",
    "n = int(input(\"Choose n, the number of integers you want to input:\"))\n",
    "while n==0:\n",
    "  n = int(input(\"Choose other n, the number of integers you want to input:\"))\n",
    "else:\n",
    "    user_input = []\n",
    "    for i in range(n):\n",
    "      j = int(input(\"Please provide your integer, entering 0 will end your inputs:\"))\n",
    "      if j == 0:\n",
    "        break\n",
    "      else:\n",
    "        user_input.append(j)\n",
    "\n",
    "print(\"The sum is:\", sum(user_input), \"The mean is:\", np.mean(user_input))\n"
   ]
  }
 ],
 "metadata": {
  "kernelspec": {
   "display_name": "Python 3 (ipykernel)",
   "language": "python",
   "name": "python3"
  },
  "language_info": {
   "codemirror_mode": {
    "name": "ipython",
    "version": 3
   },
   "file_extension": ".py",
   "mimetype": "text/x-python",
   "name": "python",
   "nbconvert_exporter": "python",
   "pygments_lexer": "ipython3",
   "version": "3.9.13"
  }
 },
 "nbformat": 4,
 "nbformat_minor": 5
}
