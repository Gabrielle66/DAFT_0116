{
 "cells": [
  {
   "cell_type": "code",
   "execution_count": 1,
   "id": "e82bd849",
   "metadata": {},
   "outputs": [],
   "source": [
    "#[Remove All The Marked Elements of a List]\n",
    "#Define a method/function that removes from a given array of integers all the values contained in a second array.\n",
    "#[1, 1, 2, 3, 1, 2, 3, 4], [1, 3] -> [2, 2, 4]\n",
    "\n",
    "class List:\n",
    "    def remove_(self, integer_list, values_list):\n",
    "        #your code here\n",
    "        lst=[]\n",
    "        for num in integer_list:\n",
    "            if num not in values_list:\n",
    "                lst.append(num)\n",
    "        return lst\n",
    "#lst = [ num for num in integer_list if num not in values_list]"
   ]
  },
  {
   "cell_type": "code",
   "execution_count": 2,
   "id": "b9f9d953",
   "metadata": {},
   "outputs": [
    {
     "data": {
      "text/plain": [
       "[2, 2, 4]"
      ]
     },
     "execution_count": 2,
     "metadata": {},
     "output_type": "execute_result"
    }
   ],
   "source": [
    "l = List()\n",
    "integer_list =  [1, 1, 2 ,3 ,1 ,2 ,3 ,4]\n",
    "values_list = [1, 3]\n",
    "l.remove_(integer_list, values_list)"
   ]
  },
  {
   "cell_type": "code",
   "execution_count": 3,
   "id": "dd6d91dd",
   "metadata": {},
   "outputs": [],
   "source": [
    "def ordered_count(inp):\n",
    "    lst = []\n",
    "    lst_doubles = []\n",
    "    for i,car in enumerate(inp):\n",
    "        if i == 0:\n",
    "            lst.append((car, inp.count(car)))\n",
    "            lst_doubles.append(car)\n",
    "        else:\n",
    "            if car in lst_doubles:\n",
    "                continue\n",
    "            else:\n",
    "                lst.append((car, inp.count(car)))\n",
    "                lst_doubles.append(car)\n",
    "    return lst"
   ]
  },
  {
   "cell_type": "code",
   "execution_count": 4,
   "id": "d5264ddd",
   "metadata": {},
   "outputs": [
    {
     "data": {
      "text/plain": [
       "[('a', 5), ('b', 2), ('r', 2), ('c', 1), ('d', 1)]"
      ]
     },
     "execution_count": 4,
     "metadata": {},
     "output_type": "execute_result"
    }
   ],
   "source": [
    "ordered_count('abracadabra')"
   ]
  },
  {
   "cell_type": "code",
   "execution_count": 5,
   "id": "55ca3511",
   "metadata": {},
   "outputs": [],
   "source": [
    "def ordered_count(inp):\n",
    "    lst = []\n",
    "    lst_result = []\n",
    "    for car in inp:\n",
    "        if car not in lst:\n",
    "            lst.append(car)\n",
    "            lst_result.append((car, inp.count(car)))\n",
    "    return lst_result"
   ]
  },
  {
   "cell_type": "code",
   "execution_count": 6,
   "id": "30cf65cb",
   "metadata": {},
   "outputs": [
    {
     "data": {
      "text/plain": [
       "[('a', 5), ('b', 2), ('r', 2), ('c', 1), ('d', 1)]"
      ]
     },
     "execution_count": 6,
     "metadata": {},
     "output_type": "execute_result"
    }
   ],
   "source": [
    "ordered_count('abracadabra')"
   ]
  },
  {
   "cell_type": "code",
   "execution_count": null,
   "id": "f7ce31fa",
   "metadata": {},
   "outputs": [],
   "source": []
  }
 ],
 "metadata": {
  "kernelspec": {
   "display_name": "Python 3 (ipykernel)",
   "language": "python",
   "name": "python3"
  },
  "language_info": {
   "codemirror_mode": {
    "name": "ipython",
    "version": 3
   },
   "file_extension": ".py",
   "mimetype": "text/x-python",
   "name": "python",
   "nbconvert_exporter": "python",
   "pygments_lexer": "ipython3",
   "version": "3.9.13"
  }
 },
 "nbformat": 4,
 "nbformat_minor": 5
}
