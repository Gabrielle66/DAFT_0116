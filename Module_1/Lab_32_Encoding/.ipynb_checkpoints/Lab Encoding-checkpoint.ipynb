{
 "cells": [
  {
   "cell_type": "code",
   "execution_count": 1,
   "id": "210f0863",
   "metadata": {},
   "outputs": [],
   "source": [
    "import pandas as pd\n",
    "import numpy as np"
   ]
  },
  {
   "cell_type": "code",
   "execution_count": 2,
   "id": "7adb5b2e",
   "metadata": {},
   "outputs": [],
   "source": [
    "cols = ['TransactionID', 'ClientID', 'Profession', 'Bank_dep', 'Risk', 'Number of credits', 'Revenue']"
   ]
  },
  {
   "cell_type": "code",
   "execution_count": 3,
   "id": "0ebec252",
   "metadata": {},
   "outputs": [],
   "source": [
    "row_1 = [1,231,'Self-employed', '009', 'High', 2, 30200]\n",
    "row_2 = [2,765,'students','005','high',3,12700]\n",
    "row_3 = [3,453,'Horeca','007','medium',5,89400]\n",
    "row_4 = [4,231,'self-employed','009','high',2,30200]\n",
    "row_5 = [5,892,'finance','003','low',3,740000]"
   ]
  },
  {
   "cell_type": "code",
   "execution_count": 4,
   "id": "099718df",
   "metadata": {},
   "outputs": [],
   "source": [
    "data = pd.DataFrame([row_1,row_2,row_3,row_4,row_5], columns=cols)"
   ]
  },
  {
   "cell_type": "code",
   "execution_count": 5,
   "id": "737a09ac",
   "metadata": {
    "scrolled": true
   },
   "outputs": [
    {
     "data": {
      "text/html": [
       "<div>\n",
       "<style scoped>\n",
       "    .dataframe tbody tr th:only-of-type {\n",
       "        vertical-align: middle;\n",
       "    }\n",
       "\n",
       "    .dataframe tbody tr th {\n",
       "        vertical-align: top;\n",
       "    }\n",
       "\n",
       "    .dataframe thead th {\n",
       "        text-align: right;\n",
       "    }\n",
       "</style>\n",
       "<table border=\"1\" class=\"dataframe\">\n",
       "  <thead>\n",
       "    <tr style=\"text-align: right;\">\n",
       "      <th></th>\n",
       "      <th>TransactionID</th>\n",
       "      <th>ClientID</th>\n",
       "      <th>Profession</th>\n",
       "      <th>Bank_dep</th>\n",
       "      <th>Risk</th>\n",
       "      <th>Number of credits</th>\n",
       "      <th>Revenue</th>\n",
       "    </tr>\n",
       "  </thead>\n",
       "  <tbody>\n",
       "    <tr>\n",
       "      <th>0</th>\n",
       "      <td>1</td>\n",
       "      <td>231</td>\n",
       "      <td>Self-employed</td>\n",
       "      <td>009</td>\n",
       "      <td>High</td>\n",
       "      <td>2</td>\n",
       "      <td>30200</td>\n",
       "    </tr>\n",
       "    <tr>\n",
       "      <th>1</th>\n",
       "      <td>2</td>\n",
       "      <td>765</td>\n",
       "      <td>students</td>\n",
       "      <td>005</td>\n",
       "      <td>high</td>\n",
       "      <td>3</td>\n",
       "      <td>12700</td>\n",
       "    </tr>\n",
       "    <tr>\n",
       "      <th>2</th>\n",
       "      <td>3</td>\n",
       "      <td>453</td>\n",
       "      <td>Horeca</td>\n",
       "      <td>007</td>\n",
       "      <td>medium</td>\n",
       "      <td>5</td>\n",
       "      <td>89400</td>\n",
       "    </tr>\n",
       "    <tr>\n",
       "      <th>3</th>\n",
       "      <td>4</td>\n",
       "      <td>231</td>\n",
       "      <td>self-employed</td>\n",
       "      <td>009</td>\n",
       "      <td>high</td>\n",
       "      <td>2</td>\n",
       "      <td>30200</td>\n",
       "    </tr>\n",
       "    <tr>\n",
       "      <th>4</th>\n",
       "      <td>5</td>\n",
       "      <td>892</td>\n",
       "      <td>finance</td>\n",
       "      <td>003</td>\n",
       "      <td>low</td>\n",
       "      <td>3</td>\n",
       "      <td>740000</td>\n",
       "    </tr>\n",
       "  </tbody>\n",
       "</table>\n",
       "</div>"
      ],
      "text/plain": [
       "   TransactionID  ClientID     Profession Bank_dep    Risk  Number of credits  \\\n",
       "0              1       231  Self-employed      009    High                  2   \n",
       "1              2       765       students      005    high                  3   \n",
       "2              3       453         Horeca      007  medium                  5   \n",
       "3              4       231  self-employed      009    high                  2   \n",
       "4              5       892        finance      003     low                  3   \n",
       "\n",
       "   Revenue  \n",
       "0    30200  \n",
       "1    12700  \n",
       "2    89400  \n",
       "3    30200  \n",
       "4   740000  "
      ]
     },
     "execution_count": 5,
     "metadata": {},
     "output_type": "execute_result"
    }
   ],
   "source": [
    "data.head()"
   ]
  },
  {
   "cell_type": "code",
   "execution_count": 19,
   "id": "cec3c315",
   "metadata": {},
   "outputs": [
    {
     "data": {
      "text/html": [
       "<div>\n",
       "<style scoped>\n",
       "    .dataframe tbody tr th:only-of-type {\n",
       "        vertical-align: middle;\n",
       "    }\n",
       "\n",
       "    .dataframe tbody tr th {\n",
       "        vertical-align: top;\n",
       "    }\n",
       "\n",
       "    .dataframe thead th {\n",
       "        text-align: right;\n",
       "    }\n",
       "</style>\n",
       "<table border=\"1\" class=\"dataframe\">\n",
       "  <thead>\n",
       "    <tr style=\"text-align: right;\">\n",
       "      <th></th>\n",
       "      <th>TransactionID</th>\n",
       "      <th>ClientID</th>\n",
       "      <th>Number of credits</th>\n",
       "      <th>Revenue</th>\n",
       "      <th>Profession_Horeca</th>\n",
       "      <th>Profession_Self-employed</th>\n",
       "      <th>Profession_finance</th>\n",
       "      <th>Profession_self-employed</th>\n",
       "      <th>Profession_students</th>\n",
       "      <th>Bank_dep_003</th>\n",
       "      <th>Bank_dep_005</th>\n",
       "      <th>Bank_dep_007</th>\n",
       "      <th>Bank_dep_009</th>\n",
       "      <th>Risk_High</th>\n",
       "      <th>Risk_high</th>\n",
       "      <th>Risk_low</th>\n",
       "      <th>Risk_medium</th>\n",
       "    </tr>\n",
       "  </thead>\n",
       "  <tbody>\n",
       "    <tr>\n",
       "      <th>0</th>\n",
       "      <td>1</td>\n",
       "      <td>231</td>\n",
       "      <td>2</td>\n",
       "      <td>30200</td>\n",
       "      <td>0</td>\n",
       "      <td>1</td>\n",
       "      <td>0</td>\n",
       "      <td>0</td>\n",
       "      <td>0</td>\n",
       "      <td>0</td>\n",
       "      <td>0</td>\n",
       "      <td>0</td>\n",
       "      <td>1</td>\n",
       "      <td>1</td>\n",
       "      <td>0</td>\n",
       "      <td>0</td>\n",
       "      <td>0</td>\n",
       "    </tr>\n",
       "    <tr>\n",
       "      <th>1</th>\n",
       "      <td>2</td>\n",
       "      <td>765</td>\n",
       "      <td>3</td>\n",
       "      <td>12700</td>\n",
       "      <td>0</td>\n",
       "      <td>0</td>\n",
       "      <td>0</td>\n",
       "      <td>0</td>\n",
       "      <td>1</td>\n",
       "      <td>0</td>\n",
       "      <td>1</td>\n",
       "      <td>0</td>\n",
       "      <td>0</td>\n",
       "      <td>0</td>\n",
       "      <td>1</td>\n",
       "      <td>0</td>\n",
       "      <td>0</td>\n",
       "    </tr>\n",
       "    <tr>\n",
       "      <th>2</th>\n",
       "      <td>3</td>\n",
       "      <td>453</td>\n",
       "      <td>5</td>\n",
       "      <td>89400</td>\n",
       "      <td>1</td>\n",
       "      <td>0</td>\n",
       "      <td>0</td>\n",
       "      <td>0</td>\n",
       "      <td>0</td>\n",
       "      <td>0</td>\n",
       "      <td>0</td>\n",
       "      <td>1</td>\n",
       "      <td>0</td>\n",
       "      <td>0</td>\n",
       "      <td>0</td>\n",
       "      <td>0</td>\n",
       "      <td>1</td>\n",
       "    </tr>\n",
       "    <tr>\n",
       "      <th>3</th>\n",
       "      <td>4</td>\n",
       "      <td>231</td>\n",
       "      <td>2</td>\n",
       "      <td>30200</td>\n",
       "      <td>0</td>\n",
       "      <td>0</td>\n",
       "      <td>0</td>\n",
       "      <td>1</td>\n",
       "      <td>0</td>\n",
       "      <td>0</td>\n",
       "      <td>0</td>\n",
       "      <td>0</td>\n",
       "      <td>1</td>\n",
       "      <td>0</td>\n",
       "      <td>1</td>\n",
       "      <td>0</td>\n",
       "      <td>0</td>\n",
       "    </tr>\n",
       "    <tr>\n",
       "      <th>4</th>\n",
       "      <td>5</td>\n",
       "      <td>892</td>\n",
       "      <td>3</td>\n",
       "      <td>740000</td>\n",
       "      <td>0</td>\n",
       "      <td>0</td>\n",
       "      <td>1</td>\n",
       "      <td>0</td>\n",
       "      <td>0</td>\n",
       "      <td>1</td>\n",
       "      <td>0</td>\n",
       "      <td>0</td>\n",
       "      <td>0</td>\n",
       "      <td>0</td>\n",
       "      <td>0</td>\n",
       "      <td>1</td>\n",
       "      <td>0</td>\n",
       "    </tr>\n",
       "  </tbody>\n",
       "</table>\n",
       "</div>"
      ],
      "text/plain": [
       "   TransactionID  ClientID  Number of credits  Revenue  Profession_Horeca  \\\n",
       "0              1       231                  2    30200                  0   \n",
       "1              2       765                  3    12700                  0   \n",
       "2              3       453                  5    89400                  1   \n",
       "3              4       231                  2    30200                  0   \n",
       "4              5       892                  3   740000                  0   \n",
       "\n",
       "   Profession_Self-employed  Profession_finance  Profession_self-employed  \\\n",
       "0                         1                   0                         0   \n",
       "1                         0                   0                         0   \n",
       "2                         0                   0                         0   \n",
       "3                         0                   0                         1   \n",
       "4                         0                   1                         0   \n",
       "\n",
       "   Profession_students  Bank_dep_003  Bank_dep_005  Bank_dep_007  \\\n",
       "0                    0             0             0             0   \n",
       "1                    1             0             1             0   \n",
       "2                    0             0             0             1   \n",
       "3                    0             0             0             0   \n",
       "4                    0             1             0             0   \n",
       "\n",
       "   Bank_dep_009  Risk_High  Risk_high  Risk_low  Risk_medium  \n",
       "0             1          1          0         0            0  \n",
       "1             0          0          1         0            0  \n",
       "2             0          0          0         0            1  \n",
       "3             1          0          1         0            0  \n",
       "4             0          0          0         1            0  "
      ]
     },
     "execution_count": 19,
     "metadata": {},
     "output_type": "execute_result"
    }
   ],
   "source": [
    "# Dummy Encoder\n",
    "pd.get_dummies(data)"
   ]
  },
  {
   "cell_type": "code",
   "execution_count": 20,
   "id": "18c2434e",
   "metadata": {},
   "outputs": [],
   "source": [
    "#LabelEncoder\n",
    "from sklearn.preprocessing import LabelEncoder"
   ]
  },
  {
   "cell_type": "code",
   "execution_count": 22,
   "id": "9c91b9de",
   "metadata": {},
   "outputs": [
    {
     "data": {
      "text/plain": [
       "array([1, 4, 0, 3, 2])"
      ]
     },
     "execution_count": 22,
     "metadata": {},
     "output_type": "execute_result"
    }
   ],
   "source": [
    "label_encode = LabelEncoder()\n",
    "label_encode.fit_transform(data['Profession'])"
   ]
  },
  {
   "cell_type": "code",
   "execution_count": 24,
   "id": "a8607e56",
   "metadata": {},
   "outputs": [
    {
     "data": {
      "text/plain": [
       "array([1, 4, 0, 3, 2])"
      ]
     },
     "execution_count": 24,
     "metadata": {},
     "output_type": "execute_result"
    }
   ],
   "source": [
    "label_encode.transform(data['Profession'])"
   ]
  },
  {
   "cell_type": "code",
   "execution_count": 23,
   "id": "5fadc3a8",
   "metadata": {},
   "outputs": [
    {
     "data": {
      "text/plain": [
       "LabelEncoder()"
      ]
     },
     "execution_count": 23,
     "metadata": {},
     "output_type": "execute_result"
    }
   ],
   "source": [
    "label_encode.fit(data['Profession'])"
   ]
  },
  {
   "cell_type": "code",
   "execution_count": 27,
   "id": "d4615eb1",
   "metadata": {},
   "outputs": [
    {
     "data": {
      "text/html": [
       "<div>\n",
       "<style scoped>\n",
       "    .dataframe tbody tr th:only-of-type {\n",
       "        vertical-align: middle;\n",
       "    }\n",
       "\n",
       "    .dataframe tbody tr th {\n",
       "        vertical-align: top;\n",
       "    }\n",
       "\n",
       "    .dataframe thead th {\n",
       "        text-align: right;\n",
       "    }\n",
       "</style>\n",
       "<table border=\"1\" class=\"dataframe\">\n",
       "  <thead>\n",
       "    <tr style=\"text-align: right;\">\n",
       "      <th></th>\n",
       "      <th>TransactionID</th>\n",
       "      <th>ClientID</th>\n",
       "      <th>Profession</th>\n",
       "      <th>Bank_dep</th>\n",
       "      <th>Risk</th>\n",
       "      <th>Number of credits</th>\n",
       "      <th>Revenue</th>\n",
       "      <th>Profession_labels</th>\n",
       "    </tr>\n",
       "  </thead>\n",
       "  <tbody>\n",
       "    <tr>\n",
       "      <th>0</th>\n",
       "      <td>1</td>\n",
       "      <td>231</td>\n",
       "      <td>Self-employed</td>\n",
       "      <td>009</td>\n",
       "      <td>High</td>\n",
       "      <td>2</td>\n",
       "      <td>30200</td>\n",
       "      <td>1</td>\n",
       "    </tr>\n",
       "    <tr>\n",
       "      <th>1</th>\n",
       "      <td>2</td>\n",
       "      <td>765</td>\n",
       "      <td>students</td>\n",
       "      <td>005</td>\n",
       "      <td>high</td>\n",
       "      <td>3</td>\n",
       "      <td>12700</td>\n",
       "      <td>4</td>\n",
       "    </tr>\n",
       "    <tr>\n",
       "      <th>2</th>\n",
       "      <td>3</td>\n",
       "      <td>453</td>\n",
       "      <td>Horeca</td>\n",
       "      <td>007</td>\n",
       "      <td>medium</td>\n",
       "      <td>5</td>\n",
       "      <td>89400</td>\n",
       "      <td>0</td>\n",
       "    </tr>\n",
       "    <tr>\n",
       "      <th>3</th>\n",
       "      <td>4</td>\n",
       "      <td>231</td>\n",
       "      <td>self-employed</td>\n",
       "      <td>009</td>\n",
       "      <td>high</td>\n",
       "      <td>2</td>\n",
       "      <td>30200</td>\n",
       "      <td>3</td>\n",
       "    </tr>\n",
       "    <tr>\n",
       "      <th>4</th>\n",
       "      <td>5</td>\n",
       "      <td>892</td>\n",
       "      <td>finance</td>\n",
       "      <td>003</td>\n",
       "      <td>low</td>\n",
       "      <td>3</td>\n",
       "      <td>740000</td>\n",
       "      <td>2</td>\n",
       "    </tr>\n",
       "  </tbody>\n",
       "</table>\n",
       "</div>"
      ],
      "text/plain": [
       "   TransactionID  ClientID     Profession Bank_dep    Risk  Number of credits  \\\n",
       "0              1       231  Self-employed      009    High                  2   \n",
       "1              2       765       students      005    high                  3   \n",
       "2              3       453         Horeca      007  medium                  5   \n",
       "3              4       231  self-employed      009    high                  2   \n",
       "4              5       892        finance      003     low                  3   \n",
       "\n",
       "   Revenue  Profession_labels  \n",
       "0    30200                  1  \n",
       "1    12700                  4  \n",
       "2    89400                  0  \n",
       "3    30200                  3  \n",
       "4   740000                  2  "
      ]
     },
     "execution_count": 27,
     "metadata": {},
     "output_type": "execute_result"
    }
   ],
   "source": [
    "data['Profession_labels']=label_encode.fit_transform(data['Profession'])\n",
    "data.head()"
   ]
  },
  {
   "cell_type": "code",
   "execution_count": 29,
   "id": "5277783d",
   "metadata": {},
   "outputs": [],
   "source": [
    "#OrdinalEncoder\n",
    "#Given a dataset with two features, we let the encoder find the unique values per feature and transform the data to an ordinal encoding.\n",
    "from sklearn.preprocessing import OrdinalEncoder"
   ]
  },
  {
   "cell_type": "code",
   "execution_count": 32,
   "id": "47a20eb1",
   "metadata": {},
   "outputs": [
    {
     "data": {
      "text/plain": [
       "OrdinalEncoder()"
      ]
     },
     "execution_count": 32,
     "metadata": {},
     "output_type": "execute_result"
    }
   ],
   "source": [
    "enc = OrdinalEncoder()\n",
    "X = [['students', 1], ['Horeca', 2]]\n",
    "enc.fit(X)\n",
    "OrdinalEncoder()"
   ]
  },
  {
   "cell_type": "code",
   "execution_count": null,
   "id": "7dbbb9b6",
   "metadata": {},
   "outputs": [],
   "source": []
  }
 ],
 "metadata": {
  "kernelspec": {
   "display_name": "Python 3 (ipykernel)",
   "language": "python",
   "name": "python3"
  },
  "language_info": {
   "codemirror_mode": {
    "name": "ipython",
    "version": 3
   },
   "file_extension": ".py",
   "mimetype": "text/x-python",
   "name": "python",
   "nbconvert_exporter": "python",
   "pygments_lexer": "ipython3",
   "version": "3.9.13"
  }
 },
 "nbformat": 4,
 "nbformat_minor": 5
}
