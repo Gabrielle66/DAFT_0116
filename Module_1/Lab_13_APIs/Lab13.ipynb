{
 "cells": [
  {
   "cell_type": "code",
   "execution_count": 1,
   "id": "0e3a839a",
   "metadata": {},
   "outputs": [],
   "source": [
    "import requests\n",
    "import random"
   ]
  },
  {
   "cell_type": "code",
   "execution_count": 2,
   "id": "fa2d766f",
   "metadata": {},
   "outputs": [
    {
     "data": {
      "text/plain": [
       "{'Connection': 'keep-alive', 'Content-Length': '3134', 'Server': 'nginx', 'Content-Type': 'text/html; charset=UTF-8', 'Last-Modified': 'Wed, 01 Feb 2023 18:18:27 GMT', 'ETag': 'W/\"63daacf3-1ec7\"', 'Expires': 'Wed, 01 Feb 2023 18:24:26 GMT', 'Cache-Control': 'max-age=300', 'Content-Encoding': 'gzip', 'Via': '1.1 varnish, 1.1 varnish', 'Accept-Ranges': 'bytes', 'Date': 'Fri, 03 Feb 2023 15:40:56 GMT', 'Age': '89', 'X-Served-By': 'cache-dfw-kdfw8210020-DFW, cache-cdg20758-CDG', 'X-Cache': 'HIT, HIT', 'X-Cache-Hits': '108, 1', 'X-Timer': 'S1675438856.490491,VS0,VE1', 'Vary': 'Accept-Encoding'}"
      ]
     },
     "execution_count": 2,
     "metadata": {},
     "output_type": "execute_result"
    }
   ],
   "source": [
    "response = requests.get(\"https://xkcd.com\")\n",
    "response.headers"
   ]
  },
  {
   "cell_type": "code",
   "execution_count": 3,
   "id": "b1e77460",
   "metadata": {},
   "outputs": [
    {
     "data": {
      "text/plain": [
       "'Wed, 01 Feb 2023 18:24:26 GMT'"
      ]
     },
     "execution_count": 3,
     "metadata": {},
     "output_type": "execute_result"
    }
   ],
   "source": [
    "response.headers[\"Expires\"]"
   ]
  },
  {
   "cell_type": "code",
   "execution_count": 4,
   "id": "c2340b99",
   "metadata": {},
   "outputs": [
    {
     "data": {
      "text/plain": [
       "'<!DOCTYPE html>\\n<html>\\n<head>\\n<link rel=\"stylesheet\" type=\"text/css\" href=\"/s/7d94e0.css\" title=\"Default\"/>\\n<title>xkcd: Bursa of Fabricius</title>\\n<meta http-equiv=\"X-UA-Compatible\" content=\"IE=edge\"/>\\n<link rel=\"shortcut icon\" href=\"/s/919f27.ico\" type=\"image/x-icon\"/>\\n<link rel=\"icon\" href=\"/s/919f27.ico\" type=\"image/x-icon\"/>\\n<link rel=\"alternate\" type=\"application/atom+xml\" title=\"Atom 1.0\" href=\"/atom.xml\"/>\\n<link rel=\"alternate\" type=\"application/rss+xml\" title=\"RSS 2.0\" href=\"/rss.xml\"/>\\n<!-- <script type=\"text/javascript\" src=\"/s/b66ed7.js\" async></script>\\n<script type=\"text/javascript\" src=\"/s/1b9456.js\" async></script> -->\\n\\n<meta property=\"og:site_name\" content=\"xkcd\">\\n\\n<meta property=\"og:title\" content=\"Bursa of Fabricius\">\\n<meta property=\"og:url\" content=\"https://xkcd.com/2732/\">\\n<meta property=\"og:image\" content=\"https://imgs.xkcd.com/comics/bursa_of_fabricius_2x.png\">\\n<meta name=\"twitter:card\" content=\"summary_large_image\">\\n\\n</head>\\n<body>\\n<div id=\"topContainer\">\\n<div id=\"topLeft\">\\n<ul>\\n<li><a href=\"/archive\">Archive</a></li>\\n<li><a href=\"https://what-if.xkcd.com\">What If?</a></li>\\n<li><a rel=\"author\" href=\"/about\">About</a></li>\\n<li><a href=\"/atom.xml\">Feed</a>&bull;<a href=\"/newsletter/\">Email</a></li>\\n<li><a href=\"https://twitter.com/xkcd/\">TW</a>&bull;<a href=\"https://www.facebook.com/TheXKCD/\">FB</a>&bull;<a href=\"https://www.instagram.com/xkcd/\">IG</a></li>\\n<li><a href=\"/books/\">-Books-</a></li>\\n<li><a href=\"/what-if-2/\">What If? 2</a></li>\\n<li><a href=\"/what-if/\">WI?</a>&bull;<a href=\"/thing-explainer/\">TE</a>&bull;<a href=\"/how-to/\">HT</a></li>\\n</ul>\\n</div>\\n<div id=\"topRight\">\\n<div id=\"masthead\">\\n<span><a href=\"/\"><img src=\"/s/0b7742.png\" alt=\"xkcd.com logo\" height=\"83\" width=\"185\"/></a></span>\\n<span id=\"slogan\">A webcomic of romance,<br/> sarcasm, math, and language.</span>\\n</div>\\n<div id=\"news\">\\n<div id=\"xkcdNews\">\\n<div id=\"countdown\" style=\"float: right; margin-right: 25px; width: 160px; height: 100px; position: relative;\"><a style=\"display: flex;\" href=\"https://xkcd.com/what-if-2/\"><img alt=\"\" style=\"width: 160px; height: 100px;\" src=\"https://xkcd.com/s/5bef6b.png\"><span style=\"position: absolute; left: 50%; top: 50%; transform: translate(-50%, -50%); padding: 0px 8px; color: black; font-family: xkcd-Regular-v3; font-size: 20px; font-variant: small-caps; letter-spacing: 1px; white-space: nowrap; background: white none repeat scroll 0% 0%; border-radius: 99px; display: none;\"></span></a></div>\\n</div>\\n<script>\\nvar client = new XMLHttpRequest();\\nclient.open(\"GET\", \"//c.xkcd.com/xkcd/news\", true);\\nclient.send();\\nclient.onreadystatechange = function() {\\n  if(client.readyState == 4 && client.status == 200) {\\n    document.getElementById(\"xkcdNews\").innerHTML = client.responseText;\\n  }\\n}\\n</script>\\n\\n</div>\\n</div>\\n<div id=\"bgLeft\" class=\"bg box\"></div>\\n<div id=\"bgRight\" class=\"bg box\"></div>\\n</div>\\n<div id=\"middleContainer\" class=\"box\">\\n\\n<div id=\"ctitle\">Bursa of Fabricius</div>\\n<ul class=\"comicNav\">\\n<li><a href=\"/1/\">|&lt;</a></li>\\n<li><a rel=\"prev\" href=\"/2731/\" accesskey=\"p\">&lt; Prev</a></li>\\n<li><a href=\"//c.xkcd.com/random/comic/\">Random</a></li>\\n<li><a rel=\"next\" href=\"#\" accesskey=\"n\">Next &gt;</a></li>\\n<li><a href=\"/\">&gt;|</a></li>\\n</ul>\\n<div id=\"comic\">\\n<img src=\"//imgs.xkcd.com/comics/bursa_of_fabricius.png\" title=\"If an anatomical structure is named for a person, it means they were the only person to have it. Pierre Paul Broca had a special area of his brain that created powerful magnetic fields, enabling him to do 19th century fMRI research.\" alt=\"Bursa of Fabricius\" srcset=\"//imgs.xkcd.com/comics/bursa_of_fabricius_2x.png 2x\" style=\"image-orientation:none\" />\\n</div>\\n<ul class=\"comicNav\">\\n<li><a href=\"/1/\">|&lt;</a></li>\\n<li><a rel=\"prev\" href=\"/2731/\" accesskey=\"p\">&lt; Prev</a></li>\\n<li><a href=\"//c.xkcd.com/random/comic/\">Random</a></li>\\n<li><a rel=\"next\" href=\"#\" accesskey=\"n\">Next &gt;</a></li>\\n<li><a href=\"/\">&gt;|</a></li>\\n</ul>\\n<br />\\nPermanent link to this comic: <a href=\"https://xkcd.com/2732\">https://xkcd.com/2732/</a><br />\\nImage URL (for hotlinking/embedding): <a href= \"https://imgs.xkcd.com/comics/bursa_of_fabricius.png\">https://imgs.xkcd.com/comics/bursa_of_fabricius.png</a>\\n\\n<div id=\"transcript\" style=\"display: none\"></div>\\n</div>\\n<div id=\"bottom\" class=\"box\">\\n<img src=\"//imgs.xkcd.com/s/a899e84.jpg\" width=\"520\" height=\"100\" alt=\"Selected Comics\" usemap=\"#comicmap\"/>\\n<map id=\"comicmap\" name=\"comicmap\">\\n<area shape=\"rect\" coords=\"0,0,100,100\" href=\"/150/\" alt=\"Grownups\"/>\\n<area shape=\"rect\" coords=\"104,0,204,100\" href=\"/730/\" alt=\"Circuit Diagram\"/>\\n<area shape=\"rect\" coords=\"208,0,308,100\" href=\"/162/\" alt=\"Angular Momentum\"/>\\n<area shape=\"rect\" coords=\"312,0,412,100\" href=\"/688/\" alt=\"Self-Description\"/>\\n<area shape=\"rect\" coords=\"416,0,520,100\" href=\"/556/\" alt=\"Alternative Energy Revolution\"/>\\n</map>\\n<br />\\n<a href=\"//xkcd.com/1732/\"><img border=0 src=\"//imgs.xkcd.com/s/temperature.png\" width=\"520\" height=\"100\" alt=\"Earth temperature timeline\"></a>\\n<br />\\n<div>\\n<!--\\nSearch comic titles and transcripts:\\n<script type=\"text/javascript\" src=\"//www.google.com/jsapi\"></script>\\n<script type=\"text/javascript\">google.load(\\'search\\', \\'1\\');google.setOnLoadCallback(function() {google.search.CustomSearchControl.attachAutoCompletion(\\'012652707207066138651:zudjtuwe28q\\',document.getElementById(\\'q\\'),\\'cse-search-box\\');});</script>\\n<form action=\"//www.google.com/cse\" id=\"cse-search-box\">\\n<div>\\n<input type=\"hidden\" name=\"cx\" value=\"012652707207066138651:zudjtuwe28q\"/>\\n<input type=\"hidden\" name=\"ie\" value=\"UTF-8\"/>\\n<input type=\"text\" name=\"q\" id=\"q\" size=\"31\"/>\\n<input type=\"submit\" name=\"sa\" value=\"Search\"/>\\n</div>\\n</form>\\n<script type=\"text/javascript\" src=\"//www.google.com/cse/brand?form=cse-search-box&amp;lang=en\"></script>\\n-->\\n<a href=\"/rss.xml\">RSS Feed</a> - <a href=\"/atom.xml\">Atom Feed</a> - <a href=\"/newsletter/\">Email</a>\\n</div>\\n<br />\\n<div id=\"comicLinks\">\\nComics I enjoy:<br/>\\n        <a href=\"http://threewordphrase.com/\">Three Word Phrase</a>,\\n        <a href=\"https://www.smbc-comics.com/\">SMBC</a>,\\n        <a href=\"https://www.qwantz.com\">Dinosaur Comics</a>,\\n        <a href=\"https://oglaf.com/\">Oglaf</a> (nsfw),\\n        <a href=\"https://www.asofterworld.com\">A Softer World</a>,\\n        <a href=\"https://buttersafe.com/\">Buttersafe</a>,\\n        <a href=\"https://pbfcomics.com/\">Perry Bible Fellowship</a>,\\n        <a href=\"https://questionablecontent.net/\">Questionable Content</a>,\\n        <a href=\"http://www.buttercupfestival.com/\">Buttercup Festival</a>,\\n        <a href=\"https://www.homestuck.com/\">Homestuck</a>,\\n\\t<a href=\"https://www.jspowerhour.com/\">Junior Scientist Power Hour</a>\\n</div>\\n<br />\\n<div id=\"comicLinks\">\\nOther things:<br/>\\n        <a href=\"https://medium.com/civic-tech-thoughts-from-joshdata/so-you-want-to-reform-democracy-7f3b1ef10597\">Tips on technology and government</a>,<br /> \\n        <a href=\"https://www.nytimes.com/interactive/2017/climate/what-is-climate-change.html\">Climate FAQ</a>,\\n\\t<a href=\"https://twitter.com/KHayhoe\">Katharine Hayhoe</a>\\n</div>\\n<br />\\n<center>\\n<div id=\"footnote\" style=\"width:70%\">xkcd.com is best viewed with Netscape Navigator 4.0 or below on a Pentium 3&plusmn;1 emulated in Javascript on an Apple IIGS<br />at a screen resolution of 1024x1. Please enable your ad blockers, disable high-heat drying, and remove your device<br />from Airplane Mode and set it to Boat Mode. For security reasons, please leave caps lock on while browsing.</div>\\n</center>\\n<div id=\"licenseText\">\\n<p>\\nThis work is licensed under a\\n<a href=\"https://creativecommons.org/licenses/by-nc/2.5/\">Creative Commons Attribution-NonCommercial 2.5 License</a>.\\n</p><p>\\nThis means you\\'re free to copy and share these comics (but not to sell them). <a rel=\"license\" href=\"/license.html\">More details</a>.</p>\\n</div>\\n</div>\\n</body>\\n<!-- Layout by Ian Clasbey, davean, and chromakode -->\\n</html>\\n\\n'"
      ]
     },
     "execution_count": 4,
     "metadata": {},
     "output_type": "execute_result"
    }
   ],
   "source": [
    "#Provide all HTML codes\n",
    "response.text\n",
    "#response.content"
   ]
  },
  {
   "cell_type": "code",
   "execution_count": 5,
   "id": "3fdf1434",
   "metadata": {},
   "outputs": [
    {
     "name": "stdout",
     "output_type": "stream",
     "text": [
      "Image sucessfully Downloaded:  test.png\n"
     ]
    },
    {
     "data": {
      "image/png": "[encoded data removed]",
      "text/plain": [
       "<PIL.PngImagePlugin.PngImageFile image mode=L size=267x318>"
      ]
     },
     "execution_count": 5,
     "metadata": {},
     "output_type": "execute_result"
    }
   ],
   "source": [
    "from io import StringIO\n",
    "from PIL import Image\n",
    "import shutil\n",
    "\n",
    "\n",
    "\n",
    "img_url = \"https://imgs.xkcd.com/comics/fan_theories.png\"\n",
    "file_name = \"test.png\"\n",
    "result = requests.get(img_url,stream=True)\n",
    "if result.status_code == 200:\n",
    "    with open(file_name,'wb') as f:\n",
    "        shutil.copyfileobj(result.raw, f)\n",
    "    print('Image sucessfully Downloaded: ',file_name)\n",
    "else:\n",
    "    print('Image Couldn\\'t be retrieved')\n",
    "Image.open(\"test.png\")"
   ]
  },
  {
   "cell_type": "code",
   "execution_count": 6,
   "id": "c6996ab6",
   "metadata": {},
   "outputs": [
    {
     "data": {
      "text/plain": [
       "{'Date': 'Fri, 03 Feb 2023 15:40:58 GMT', 'Content-Type': 'application/json', 'Content-Length': '310', 'Connection': 'keep-alive', 'Server': 'gunicorn/19.9.0', 'Access-Control-Allow-Origin': '*', 'Access-Control-Allow-Credentials': 'true'}"
      ]
     },
     "execution_count": 6,
     "metadata": {},
     "output_type": "execute_result"
    }
   ],
   "source": [
    "response = requests.get(\"https://httpbin.org/get\")\n",
    "response.headers"
   ]
  },
  {
   "cell_type": "code",
   "execution_count": 7,
   "id": "2ff3b4b4",
   "metadata": {},
   "outputs": [
    {
     "data": {
      "text/plain": [
       "'{\\n  \"args\": {}, \\n  \"headers\": {\\n    \"Accept\": \"*/*\", \\n    \"Accept-Encoding\": \"gzip, deflate, br\", \\n    \"Host\": \"httpbin.org\", \\n    \"User-Agent\": \"python-requests/2.28.1\", \\n    \"X-Amzn-Trace-Id\": \"Root=1-63dd2b09-1f25d289689f3c90128981ad\"\\n  }, \\n  \"origin\": \"93.22.37.144\", \\n  \"url\": \"https://httpbin.org/get\"\\n}\\n'"
      ]
     },
     "execution_count": 7,
     "metadata": {},
     "output_type": "execute_result"
    }
   ],
   "source": [
    "response.text"
   ]
  },
  {
   "cell_type": "code",
   "execution_count": 8,
   "id": "aad88752",
   "metadata": {},
   "outputs": [
    {
     "data": {
      "text/plain": [
       "b'{\\n  \"args\": {\\n    \"things\": \"2\", \\n    \"total\": \"25\"\\n  }, \\n  \"headers\": {\\n    \"Accept\": \"*/*\", \\n    \"Accept-Encoding\": \"gzip, deflate, br\", \\n    \"Host\": \"httpbin.org\", \\n    \"User-Agent\": \"python-requests/2.28.1\", \\n    \"X-Amzn-Trace-Id\": \"Root=1-63dd2b0a-374f841013399dc042367f39\"\\n  }, \\n  \"origin\": \"93.22.37.144\", \\n  \"url\": \"https://httpbin.org/get?things=2&total=25\"\\n}\\n'"
      ]
     },
     "execution_count": 8,
     "metadata": {},
     "output_type": "execute_result"
    }
   ],
   "source": [
    "#Add parameters to the request 'things':2,'total':25\n",
    "test = {'things': 2, 'total': 25}\n",
    "\n",
    "response = requests.get(\"https://httpbin.org/get\", params=test)\n",
    "response.content"
   ]
  },
  {
   "cell_type": "code",
   "execution_count": 9,
   "id": "e39240d2",
   "metadata": {},
   "outputs": [
    {
     "data": {
      "text/plain": [
       "b'{\\n  \"args\": {\\n    \"password\": \"password\", \\n    \"username\": \"username\"\\n  }, \\n  \"headers\": {\\n    \"Accept\": \"*/*\", \\n    \"Accept-Encoding\": \"gzip, deflate, br\", \\n    \"Host\": \"httpbin.org\", \\n    \"User-Agent\": \"python-requests/2.28.1\", \\n    \"X-Amzn-Trace-Id\": \"Root=1-63dd2b0b-1afdb4467c6229387a27a41c\"\\n  }, \\n  \"origin\": \"93.22.37.144\", \\n  \"url\": \"https://httpbin.org/get?username=username&password=password\"\\n}\\n'"
      ]
     },
     "execution_count": 9,
     "metadata": {},
     "output_type": "execute_result"
    }
   ],
   "source": [
    "#Add username and password as parameters\n",
    "test = {'username': \"username\", 'password': \"password\"}\n",
    "\n",
    "response = requests.get(\"https://httpbin.org/get\", params=test)\n",
    "response.content"
   ]
  },
  {
   "cell_type": "code",
   "execution_count": 10,
   "id": "bb09ffb0",
   "metadata": {},
   "outputs": [
    {
     "data": {
      "text/plain": [
       "{'password': 'password', 'username': 'username'}"
      ]
     },
     "execution_count": 10,
     "metadata": {},
     "output_type": "execute_result"
    }
   ],
   "source": [
    "#Export username and password as dictionary\n",
    "respdic = response.json()[\"args\"]\n",
    "respdic"
   ]
  },
  {
   "cell_type": "code",
   "execution_count": 11,
   "id": "6c966b26",
   "metadata": {},
   "outputs": [
    {
     "name": "stdout",
     "output_type": "stream",
     "text": [
      "{'args': {}, 'data': '', 'files': {}, 'form': {'password': 'p', 'username': 'u'}, 'headers': {'Accept': '*/*', 'Accept-Encoding': 'gzip, deflate, br', 'Content-Length': '21', 'Content-Type': 'application/x-www-form-urlencoded', 'Host': 'httpbin.org', 'User-Agent': 'python-requests/2.28.1', 'X-Amzn-Trace-Id': 'Root=1-63dd2b0c-0ee149ea207f0cbe2da8a78f'}, 'json': None, 'origin': '93.22.37.144', 'url': 'https://httpbin.org/post'}\n",
      "{'password': 'p', 'username': 'u'}\n"
     ]
    }
   ],
   "source": [
    "# Add username and password as parameters\n",
    "# Export username and password as dictionary\n",
    "ploads = {\"username\": \"u\", \"password\": \"p\"}\n",
    "response = requests.post(\"https://httpbin.org/post\", data = ploads)\n",
    "results = response.json()\n",
    "print(results)\n",
    "dicinfo = dict(results[\"form\"])\n",
    "print(dicinfo)"
   ]
  },
  {
   "cell_type": "code",
   "execution_count": 18,
   "id": "f88051e3",
   "metadata": {},
   "outputs": [
    {
     "ename": "ModuleNotFoundError",
     "evalue": "No module named 'github'",
     "output_type": "error",
     "traceback": [
      "\u001b[1;31m---------------------------------------------------------------------------\u001b[0m",
      "\u001b[1;31mModuleNotFoundError\u001b[0m                       Traceback (most recent call last)",
      "\u001b[1;32m~\\AppData\\Local\\Temp\\ipykernel_4904\\1082904215.py\u001b[0m in \u001b[0;36m<module>\u001b[1;34m\u001b[0m\n\u001b[1;32m----> 1\u001b[1;33m \u001b[1;32mfrom\u001b[0m \u001b[0mgithub\u001b[0m \u001b[1;32mimport\u001b[0m \u001b[0mGithub\u001b[0m\u001b[1;33m\u001b[0m\u001b[1;33m\u001b[0m\u001b[0m\n\u001b[0m\u001b[0;32m      2\u001b[0m \u001b[1;33m\u001b[0m\u001b[0m\n\u001b[0;32m      3\u001b[0m \u001b[1;31m#https://api.github.com/search/code?q=.scavengerhunt+in:path+repo:ironhack-datalabs/scavenger\u001b[0m\u001b[1;33m\u001b[0m\u001b[1;33m\u001b[0m\u001b[0m\n",
      "\u001b[1;31mModuleNotFoundError\u001b[0m: No module named 'github'"
     ]
    }
   ],
   "source": [
    "from github import Github\n",
    "\n",
    "#https://api.github.com/search/code?q=.scavengerhunt+in:path+repo:ironhack-datalabs/scavenger"
   ]
  },
  {
   "cell_type": "code",
   "execution_count": 19,
   "id": "5a06bb94",
   "metadata": {},
   "outputs": [
    {
     "ename": "NameError",
     "evalue": "name 'g' is not defined",
     "output_type": "error",
     "traceback": [
      "\u001b[1;31m---------------------------------------------------------------------------\u001b[0m",
      "\u001b[1;31mNameError\u001b[0m                                 Traceback (most recent call last)",
      "\u001b[1;32m~\\AppData\\Local\\Temp\\ipykernel_4904\\1993430448.py\u001b[0m in \u001b[0;36m<module>\u001b[1;34m\u001b[0m\n\u001b[0;32m      1\u001b[0m \u001b[0mowner\u001b[0m \u001b[1;33m=\u001b[0m \u001b[1;34m\"ironhack-datalabs\"\u001b[0m\u001b[1;33m\u001b[0m\u001b[1;33m\u001b[0m\u001b[0m\n\u001b[0;32m      2\u001b[0m \u001b[0mreponame\u001b[0m\u001b[1;33m=\u001b[0m \u001b[1;34m\"scavenger\"\u001b[0m\u001b[1;33m\u001b[0m\u001b[1;33m\u001b[0m\u001b[0m\n\u001b[1;32m----> 3\u001b[1;33m \u001b[0mrepocpn\u001b[0m \u001b[1;33m=\u001b[0m \u001b[0mg\u001b[0m\u001b[1;33m.\u001b[0m\u001b[0mget_repo\u001b[0m\u001b[1;33m(\u001b[0m\u001b[1;34mf\"{owner}/{reponame}\"\u001b[0m\u001b[1;33m)\u001b[0m\u001b[1;33m\u001b[0m\u001b[1;33m\u001b[0m\u001b[0m\n\u001b[0m\u001b[0;32m      4\u001b[0m \u001b[0mrepcontents\u001b[0m \u001b[1;33m=\u001b[0m \u001b[0mrepocpn\u001b[0m\u001b[1;33m.\u001b[0m\u001b[0mget_contents\u001b[0m\u001b[1;33m(\u001b[0m\u001b[1;34m\"\"\u001b[0m\u001b[1;33m)\u001b[0m\u001b[1;33m\u001b[0m\u001b[1;33m\u001b[0m\u001b[0m\n",
      "\u001b[1;31mNameError\u001b[0m: name 'g' is not defined"
     ]
    }
   ],
   "source": [
    "owner = \"ironhack-datalabs\"\n",
    "reponame= \"scavenger\"\n",
    "repocpn = g.get_repo(f\"{owner}/{reponame}\")\n",
    "repcontents = repocpn.get_contents(\"\")"
   ]
  },
  {
   "cell_type": "code",
   "execution_count": null,
   "id": "44f9153c",
   "metadata": {},
   "outputs": [],
   "source": [
    "repcontents = repocpn.get_contents(\"\")"
   ]
  },
  {
   "cell_type": "code",
   "execution_count": null,
   "id": "10594a87",
   "metadata": {},
   "outputs": [],
   "source": [
    "#CONTAINS THE DIRECTORIES\n",
    "for icontent in repcontents:\n",
    "    print(icontent)\n",
    "icontent.path"
   ]
  },
  {
   "cell_type": "code",
   "execution_count": null,
   "id": "5b9f0e94",
   "metadata": {},
   "outputs": [],
   "source": []
  }
 ],
 "metadata": {
  "kernelspec": {
   "display_name": "Python 3 (ipykernel)",
   "language": "python",
   "name": "python3"
  },
  "language_info": {
   "codemirror_mode": {
    "name": "ipython",
    "version": 3
   },
   "file_extension": ".py",
   "mimetype": "text/x-python",
   "name": "python",
   "nbconvert_exporter": "python",
   "pygments_lexer": "ipython3",
   "version": "3.9.13"
  }
 },
 "nbformat": 4,
 "nbformat_minor": 5
}
