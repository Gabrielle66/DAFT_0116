{
 "cells": [
  {
   "cell_type": "code",
   "execution_count": 6,
   "id": "3757f91b",
   "metadata": {},
   "outputs": [
    {
     "name": "stdout",
     "output_type": "stream",
     "text": [
      "17\n"
     ]
    }
   ],
   "source": [
    "#Remove All The Marked Elements of a List\n",
    "\n",
    "def count_sheep(sheep_array):\n",
    "    count = 0\n",
    "    for sheep in sheep_array:\n",
    "        if sheep:\n",
    "            count += 1\n",
    "    return count\n",
    "\n",
    "sheep = [\n",
    "    True,  True,  True,  False,\n",
    "    True,  True,  True,  True,\n",
    "    True,  False, True,  False,\n",
    "    True,  False, False, True,\n",
    "    True,  True,  True,  True,\n",
    "    False, False, True,  True\n",
    "]\n",
    "\n",
    "print(count_sheep(sheep))\n"
   ]
  },
  {
   "cell_type": "code",
   "execution_count": 7,
   "id": "32de997d",
   "metadata": {},
   "outputs": [
    {
     "name": "stdout",
     "output_type": "stream",
     "text": [
      "['Keep', 'Keep', 'Keep']\n"
     ]
    }
   ],
   "source": [
    "#Take an array and remove every second element from the array. \n",
    "#Always keep the first element and start removing with the next element.\n",
    "def remove_every_second(array):\n",
    "    result = []\n",
    "    for i in range(len(array)):\n",
    "        if i % 2 == 0:\n",
    "            result.append(array[i])\n",
    "    return result\n",
    "\n",
    "array = [\"Keep\", \"Remove\", \"Keep\", \"Remove\", \"Keep\"]\n",
    "print(remove_every_second(array))"
   ]
  },
  {
   "cell_type": "code",
   "execution_count": 8,
   "id": "3b93561e",
   "metadata": {},
   "outputs": [
    {
     "name": "stdout",
     "output_type": "stream",
     "text": [
      "[1, 3, 2, 5, 3]\n",
      "[0]\n"
     ]
    }
   ],
   "source": [
    "#Given a random non-negative number, \n",
    "#you have to return the digits of this number within an array in reverse order.\n",
    "def digitize(n):\n",
    "    return [int(x) for x in str(n)[::-1]]\n",
    "\n",
    "print(digitize(35231))\n",
    "print(digitize(0))"
   ]
  },
  {
   "cell_type": "code",
   "execution_count": null,
   "id": "69c8c891",
   "metadata": {},
   "outputs": [],
   "source": [
    "#Welcome. In this kata, you are asked to square every digit of a number and concatenate them.\n",
    "\n",
    "#For example, if we run 9119 through the function, 811181 will come out, because 92 is 81 and 12 is 1. (81-1-1-81)\n",
    "\n",
    "#Example #2: An input of 765 will/should return 493625 because 72 is 49, 62 is 36, and 52 is 25. (49-36-35)\n",
    "\n",
    "#Note: The function accepts an integer and returns an integer.\n",
    "\n",
    "#Happy Coding!"
   ]
  },
  {
   "cell_type": "code",
   "execution_count": 9,
   "id": "521d3309",
   "metadata": {},
   "outputs": [
    {
     "name": "stdout",
     "output_type": "stream",
     "text": [
      "811181\n",
      "493625\n"
     ]
    }
   ],
   "source": [
    "def square_digits(n):\n",
    "    return int(''.join([str(int(x)**2) for x in str(n)]))\n",
    "\n",
    "print(square_digits(9119))\n",
    "print(square_digits(765))"
   ]
  },
  {
   "cell_type": "code",
   "execution_count": null,
   "id": "9f1f0221",
   "metadata": {},
   "outputs": [],
   "source": []
  }
 ],
 "metadata": {
  "kernelspec": {
   "display_name": "Python 3 (ipykernel)",
   "language": "python",
   "name": "python3"
  },
  "language_info": {
   "codemirror_mode": {
    "name": "ipython",
    "version": 3
   },
   "file_extension": ".py",
   "mimetype": "text/x-python",
   "name": "python",
   "nbconvert_exporter": "python",
   "pygments_lexer": "ipython3",
   "version": "3.9.13"
  }
 },
 "nbformat": 4,
 "nbformat_minor": 5
}
