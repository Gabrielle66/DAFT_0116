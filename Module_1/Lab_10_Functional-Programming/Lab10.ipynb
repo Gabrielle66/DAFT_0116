{
 "cells": [
  {
   "cell_type": "code",
   "execution_count": 6,
   "id": "3757f91b",
   "metadata": {},
   "outputs": [
    {
     "ename": "NameError",
     "evalue": "name 'true' is not defined",
     "output_type": "error",
     "traceback": [
      "\u001b[1;31m---------------------------------------------------------------------------\u001b[0m",
      "\u001b[1;31mNameError\u001b[0m                                 Traceback (most recent call last)",
      "\u001b[1;32m~\\AppData\\Local\\Temp\\ipykernel_18308\\56202361.py\u001b[0m in \u001b[0;36m<module>\u001b[1;34m\u001b[0m\n\u001b[1;32m----> 1\u001b[1;33m x = [true,  true,  true,  false, true,  true,  true,  true , true,  false, true,  false, true,  false, false, true , true,  true,  true,  true ,\n\u001b[0m\u001b[0;32m      2\u001b[0m   false, false, true,  true]\n\u001b[0;32m      3\u001b[0m \u001b[1;33m\u001b[0m\u001b[0m\n\u001b[0;32m      4\u001b[0m \u001b[1;32mdef\u001b[0m \u001b[0mcount_sheeps\u001b[0m\u001b[1;33m(\u001b[0m\u001b[0mx\u001b[0m\u001b[1;33m)\u001b[0m\u001b[1;33m:\u001b[0m\u001b[1;33m\u001b[0m\u001b[1;33m\u001b[0m\u001b[0m\n\u001b[0;32m      5\u001b[0m     \u001b[1;32mreturn\u001b[0m \u001b[0mx\u001b[0m\u001b[1;33m.\u001b[0m\u001b[0mcount\u001b[0m\u001b[1;33m(\u001b[0m\u001b[1;32mTrue\u001b[0m\u001b[1;33m)\u001b[0m\u001b[1;33m\u001b[0m\u001b[1;33m\u001b[0m\u001b[0m\n",
      "\u001b[1;31mNameError\u001b[0m: name 'true' is not defined"
     ]
    }
   ],
   "source": [
    "x = [true,  true,  true,  false, true,  true,  true,  true , true,  false, true,  false, true,  false, false, true , true,  true,  true,  true ,\n",
    "  false, false, true,  true]\n",
    "\n",
    "def count_sheeps(x):\n",
    "    return x.count(True)"
   ]
  },
  {
   "cell_type": "code",
   "execution_count": null,
   "id": "9c82c264",
   "metadata": {},
   "outputs": [],
   "source": [
    "#Take an array and remove every second element from the array. \n",
    "#Always keep the first element and start removing with the next element."
   ]
  },
  {
   "cell_type": "code",
   "execution_count": null,
   "id": "6e57ca82",
   "metadata": {},
   "outputs": [],
   "source": [
    "#Given a random non-negative number, \n",
    "#you have to return the digits of this number within an array in reverse order."
   ]
  },
  {
   "cell_type": "code",
   "execution_count": null,
   "id": "d77c2e66",
   "metadata": {},
   "outputs": [],
   "source": [
    "#Welcome. In this kata, you are asked to square every digit of a number and concatenate them.\n",
    "\n",
    "#For example, if we run 9119 through the function, 811181 will come out, because 92 is 81 and 12 is 1. (81-1-1-81)\n",
    "\n",
    "#Example #2: An input of 765 will/should return 493625 because 72 is 49, 62 is 36, and 52 is 25. (49-36-35)\n",
    "\n",
    "#Note: The function accepts an integer and returns an integer.\n",
    "\n",
    "#Happy Coding!"
   ]
  },
  {
   "cell_type": "code",
   "execution_count": null,
   "id": "a4c7ddea",
   "metadata": {},
   "outputs": [],
   "source": []
  }
 ],
 "metadata": {
  "kernelspec": {
   "display_name": "Python 3 (ipykernel)",
   "language": "python",
   "name": "python3"
  },
  "language_info": {
   "codemirror_mode": {
    "name": "ipython",
    "version": 3
   },
   "file_extension": ".py",
   "mimetype": "text/x-python",
   "name": "python",
   "nbconvert_exporter": "python",
   "pygments_lexer": "ipython3",
   "version": "3.9.13"
  }
 },
 "nbformat": 4,
 "nbformat_minor": 5
}
