{
 "cells": [
  {
   "cell_type": "code",
   "execution_count": 1,
   "id": "893a3f63",
   "metadata": {},
   "outputs": [
    {
     "ename": "FileNotFoundError",
     "evalue": "[Errno 2] No such file or directory: 'fake_jobs.csv'",
     "output_type": "error",
     "traceback": [
      "\u001b[1;31m---------------------------------------------------------------------------\u001b[0m",
      "\u001b[1;31mFileNotFoundError\u001b[0m                         Traceback (most recent call last)",
      "\u001b[1;32m~\\AppData\\Local\\Temp\\ipykernel_2680\\2252765140.py\u001b[0m in \u001b[0;36m<module>\u001b[1;34m\u001b[0m\n\u001b[0;32m      2\u001b[0m \u001b[1;32mimport\u001b[0m \u001b[0mpandas\u001b[0m \u001b[1;32mas\u001b[0m \u001b[0mpd\u001b[0m\u001b[1;33m\u001b[0m\u001b[1;33m\u001b[0m\u001b[0m\n\u001b[0;32m      3\u001b[0m \u001b[1;32mimport\u001b[0m \u001b[0mnumpy\u001b[0m \u001b[1;32mas\u001b[0m \u001b[0mnp\u001b[0m\u001b[1;33m\u001b[0m\u001b[1;33m\u001b[0m\u001b[0m\n\u001b[1;32m----> 4\u001b[1;33m \u001b[0mdf\u001b[0m \u001b[1;33m=\u001b[0m \u001b[0mpd\u001b[0m\u001b[1;33m.\u001b[0m\u001b[0mread_csv\u001b[0m\u001b[1;33m(\u001b[0m\u001b[1;34m'fake_jobs.csv'\u001b[0m\u001b[1;33m,\u001b[0m\u001b[0mlow_memory\u001b[0m\u001b[1;33m=\u001b[0m\u001b[1;32mFalse\u001b[0m\u001b[1;33m)\u001b[0m\u001b[1;33m\u001b[0m\u001b[1;33m\u001b[0m\u001b[0m\n\u001b[0m",
      "\u001b[1;32m~\\anaconda3\\lib\\site-packages\\pandas\\util\\_decorators.py\u001b[0m in \u001b[0;36mwrapper\u001b[1;34m(*args, **kwargs)\u001b[0m\n\u001b[0;32m    309\u001b[0m                     \u001b[0mstacklevel\u001b[0m\u001b[1;33m=\u001b[0m\u001b[0mstacklevel\u001b[0m\u001b[1;33m,\u001b[0m\u001b[1;33m\u001b[0m\u001b[1;33m\u001b[0m\u001b[0m\n\u001b[0;32m    310\u001b[0m                 )\n\u001b[1;32m--> 311\u001b[1;33m             \u001b[1;32mreturn\u001b[0m \u001b[0mfunc\u001b[0m\u001b[1;33m(\u001b[0m\u001b[1;33m*\u001b[0m\u001b[0margs\u001b[0m\u001b[1;33m,\u001b[0m \u001b[1;33m**\u001b[0m\u001b[0mkwargs\u001b[0m\u001b[1;33m)\u001b[0m\u001b[1;33m\u001b[0m\u001b[1;33m\u001b[0m\u001b[0m\n\u001b[0m\u001b[0;32m    312\u001b[0m \u001b[1;33m\u001b[0m\u001b[0m\n\u001b[0;32m    313\u001b[0m         \u001b[1;32mreturn\u001b[0m \u001b[0mwrapper\u001b[0m\u001b[1;33m\u001b[0m\u001b[1;33m\u001b[0m\u001b[0m\n",
      "\u001b[1;32m~\\anaconda3\\lib\\site-packages\\pandas\\io\\parsers\\readers.py\u001b[0m in \u001b[0;36mread_csv\u001b[1;34m(filepath_or_buffer, sep, delimiter, header, names, index_col, usecols, squeeze, prefix, mangle_dupe_cols, dtype, engine, converters, true_values, false_values, skipinitialspace, skiprows, skipfooter, nrows, na_values, keep_default_na, na_filter, verbose, skip_blank_lines, parse_dates, infer_datetime_format, keep_date_col, date_parser, dayfirst, cache_dates, iterator, chunksize, compression, thousands, decimal, lineterminator, quotechar, quoting, doublequote, escapechar, comment, encoding, encoding_errors, dialect, error_bad_lines, warn_bad_lines, on_bad_lines, delim_whitespace, low_memory, memory_map, float_precision, storage_options)\u001b[0m\n\u001b[0;32m    676\u001b[0m     \u001b[0mkwds\u001b[0m\u001b[1;33m.\u001b[0m\u001b[0mupdate\u001b[0m\u001b[1;33m(\u001b[0m\u001b[0mkwds_defaults\u001b[0m\u001b[1;33m)\u001b[0m\u001b[1;33m\u001b[0m\u001b[1;33m\u001b[0m\u001b[0m\n\u001b[0;32m    677\u001b[0m \u001b[1;33m\u001b[0m\u001b[0m\n\u001b[1;32m--> 678\u001b[1;33m     \u001b[1;32mreturn\u001b[0m \u001b[0m_read\u001b[0m\u001b[1;33m(\u001b[0m\u001b[0mfilepath_or_buffer\u001b[0m\u001b[1;33m,\u001b[0m \u001b[0mkwds\u001b[0m\u001b[1;33m)\u001b[0m\u001b[1;33m\u001b[0m\u001b[1;33m\u001b[0m\u001b[0m\n\u001b[0m\u001b[0;32m    679\u001b[0m \u001b[1;33m\u001b[0m\u001b[0m\n\u001b[0;32m    680\u001b[0m \u001b[1;33m\u001b[0m\u001b[0m\n",
      "\u001b[1;32m~\\anaconda3\\lib\\site-packages\\pandas\\io\\parsers\\readers.py\u001b[0m in \u001b[0;36m_read\u001b[1;34m(filepath_or_buffer, kwds)\u001b[0m\n\u001b[0;32m    573\u001b[0m \u001b[1;33m\u001b[0m\u001b[0m\n\u001b[0;32m    574\u001b[0m     \u001b[1;31m# Create the parser.\u001b[0m\u001b[1;33m\u001b[0m\u001b[1;33m\u001b[0m\u001b[0m\n\u001b[1;32m--> 575\u001b[1;33m     \u001b[0mparser\u001b[0m \u001b[1;33m=\u001b[0m \u001b[0mTextFileReader\u001b[0m\u001b[1;33m(\u001b[0m\u001b[0mfilepath_or_buffer\u001b[0m\u001b[1;33m,\u001b[0m \u001b[1;33m**\u001b[0m\u001b[0mkwds\u001b[0m\u001b[1;33m)\u001b[0m\u001b[1;33m\u001b[0m\u001b[1;33m\u001b[0m\u001b[0m\n\u001b[0m\u001b[0;32m    576\u001b[0m \u001b[1;33m\u001b[0m\u001b[0m\n\u001b[0;32m    577\u001b[0m     \u001b[1;32mif\u001b[0m \u001b[0mchunksize\u001b[0m \u001b[1;32mor\u001b[0m \u001b[0miterator\u001b[0m\u001b[1;33m:\u001b[0m\u001b[1;33m\u001b[0m\u001b[1;33m\u001b[0m\u001b[0m\n",
      "\u001b[1;32m~\\anaconda3\\lib\\site-packages\\pandas\\io\\parsers\\readers.py\u001b[0m in \u001b[0;36m__init__\u001b[1;34m(self, f, engine, **kwds)\u001b[0m\n\u001b[0;32m    930\u001b[0m \u001b[1;33m\u001b[0m\u001b[0m\n\u001b[0;32m    931\u001b[0m         \u001b[0mself\u001b[0m\u001b[1;33m.\u001b[0m\u001b[0mhandles\u001b[0m\u001b[1;33m:\u001b[0m \u001b[0mIOHandles\u001b[0m \u001b[1;33m|\u001b[0m \u001b[1;32mNone\u001b[0m \u001b[1;33m=\u001b[0m \u001b[1;32mNone\u001b[0m\u001b[1;33m\u001b[0m\u001b[1;33m\u001b[0m\u001b[0m\n\u001b[1;32m--> 932\u001b[1;33m         \u001b[0mself\u001b[0m\u001b[1;33m.\u001b[0m\u001b[0m_engine\u001b[0m \u001b[1;33m=\u001b[0m \u001b[0mself\u001b[0m\u001b[1;33m.\u001b[0m\u001b[0m_make_engine\u001b[0m\u001b[1;33m(\u001b[0m\u001b[0mf\u001b[0m\u001b[1;33m,\u001b[0m \u001b[0mself\u001b[0m\u001b[1;33m.\u001b[0m\u001b[0mengine\u001b[0m\u001b[1;33m)\u001b[0m\u001b[1;33m\u001b[0m\u001b[1;33m\u001b[0m\u001b[0m\n\u001b[0m\u001b[0;32m    933\u001b[0m \u001b[1;33m\u001b[0m\u001b[0m\n\u001b[0;32m    934\u001b[0m     \u001b[1;32mdef\u001b[0m \u001b[0mclose\u001b[0m\u001b[1;33m(\u001b[0m\u001b[0mself\u001b[0m\u001b[1;33m)\u001b[0m\u001b[1;33m:\u001b[0m\u001b[1;33m\u001b[0m\u001b[1;33m\u001b[0m\u001b[0m\n",
      "\u001b[1;32m~\\anaconda3\\lib\\site-packages\\pandas\\io\\parsers\\readers.py\u001b[0m in \u001b[0;36m_make_engine\u001b[1;34m(self, f, engine)\u001b[0m\n\u001b[0;32m   1214\u001b[0m             \u001b[1;31m# \"Union[str, PathLike[str], ReadCsvBuffer[bytes], ReadCsvBuffer[str]]\"\u001b[0m\u001b[1;33m\u001b[0m\u001b[1;33m\u001b[0m\u001b[0m\n\u001b[0;32m   1215\u001b[0m             \u001b[1;31m# , \"str\", \"bool\", \"Any\", \"Any\", \"Any\", \"Any\", \"Any\"\u001b[0m\u001b[1;33m\u001b[0m\u001b[1;33m\u001b[0m\u001b[0m\n\u001b[1;32m-> 1216\u001b[1;33m             self.handles = get_handle(  # type: ignore[call-overload]\n\u001b[0m\u001b[0;32m   1217\u001b[0m                 \u001b[0mf\u001b[0m\u001b[1;33m,\u001b[0m\u001b[1;33m\u001b[0m\u001b[1;33m\u001b[0m\u001b[0m\n\u001b[0;32m   1218\u001b[0m                 \u001b[0mmode\u001b[0m\u001b[1;33m,\u001b[0m\u001b[1;33m\u001b[0m\u001b[1;33m\u001b[0m\u001b[0m\n",
      "\u001b[1;32m~\\anaconda3\\lib\\site-packages\\pandas\\io\\common.py\u001b[0m in \u001b[0;36mget_handle\u001b[1;34m(path_or_buf, mode, encoding, compression, memory_map, is_text, errors, storage_options)\u001b[0m\n\u001b[0;32m    784\u001b[0m         \u001b[1;32mif\u001b[0m \u001b[0mioargs\u001b[0m\u001b[1;33m.\u001b[0m\u001b[0mencoding\u001b[0m \u001b[1;32mand\u001b[0m \u001b[1;34m\"b\"\u001b[0m \u001b[1;32mnot\u001b[0m \u001b[1;32min\u001b[0m \u001b[0mioargs\u001b[0m\u001b[1;33m.\u001b[0m\u001b[0mmode\u001b[0m\u001b[1;33m:\u001b[0m\u001b[1;33m\u001b[0m\u001b[1;33m\u001b[0m\u001b[0m\n\u001b[0;32m    785\u001b[0m             \u001b[1;31m# Encoding\u001b[0m\u001b[1;33m\u001b[0m\u001b[1;33m\u001b[0m\u001b[0m\n\u001b[1;32m--> 786\u001b[1;33m             handle = open(\n\u001b[0m\u001b[0;32m    787\u001b[0m                 \u001b[0mhandle\u001b[0m\u001b[1;33m,\u001b[0m\u001b[1;33m\u001b[0m\u001b[1;33m\u001b[0m\u001b[0m\n\u001b[0;32m    788\u001b[0m                 \u001b[0mioargs\u001b[0m\u001b[1;33m.\u001b[0m\u001b[0mmode\u001b[0m\u001b[1;33m,\u001b[0m\u001b[1;33m\u001b[0m\u001b[1;33m\u001b[0m\u001b[0m\n",
      "\u001b[1;31mFileNotFoundError\u001b[0m: [Errno 2] No such file or directory: 'fake_jobs.csv'"
     ]
    }
   ],
   "source": [
    "# Import and read the data\n",
    "import pandas as pd\n",
    "import numpy as np\n",
    "df = pd.read_csv('fake_jobs.csv',low_memory=False)"
   ]
  },
  {
   "cell_type": "code",
   "execution_count": 48,
   "id": "cb80fd0e",
   "metadata": {},
   "outputs": [
    {
     "data": {
      "text/plain": [
       "(17880, 18)"
      ]
     },
     "execution_count": 48,
     "metadata": {},
     "output_type": "execute_result"
    }
   ],
   "source": [
    "df.shape"
   ]
  },
  {
   "cell_type": "code",
   "execution_count": 49,
   "id": "550ca246",
   "metadata": {},
   "outputs": [
    {
     "name": "stdout",
     "output_type": "stream",
     "text": [
      "Missing values distribution: \n",
      "job_id                 0.000000\n",
      "title                  0.000000\n",
      "location               0.019351\n",
      "department             0.645805\n",
      "salary_range           0.839597\n",
      "company_profile        0.185011\n",
      "description            0.000056\n",
      "requirements           0.150727\n",
      "benefits               0.403244\n",
      "telecommuting          0.000000\n",
      "has_company_logo       0.000000\n",
      "has_questions          0.000000\n",
      "employment_type        0.194128\n",
      "required_experience    0.394295\n",
      "required_education     0.453300\n",
      "industry               0.274217\n",
      "function               0.361018\n",
      "fraudulent             0.000000\n",
      "dtype: float64\n"
     ]
    }
   ],
   "source": [
    "# Print the % of empty cells in the data\n",
    "# Top offenders (>40%) are: Salary range, Department, Benefits, required_experience, required_education...\n",
    "# We decide to drop department, salary_range and benefits and try to repair the rest\n",
    "# Loi : Localisation, titre du poste, fiche de poste\n",
    "print(\"Missing values distribution: \")\n",
    "print(df.isnull().mean())"
   ]
  },
  {
   "cell_type": "code",
   "execution_count": 50,
   "id": "488aa98a",
   "metadata": {},
   "outputs": [],
   "source": [
    "df.drop(['department','salary_range','benefits'], axis = 1, inplace = True) "
   ]
  },
  {
   "cell_type": "code",
   "execution_count": 51,
   "id": "419a5ed6",
   "metadata": {},
   "outputs": [
    {
     "data": {
      "text/plain": [
       "(17880, 15)"
      ]
     },
     "execution_count": 51,
     "metadata": {},
     "output_type": "execute_result"
    }
   ],
   "source": [
    "df.shape\n",
    "#columns have been dropped"
   ]
  },
  {
   "cell_type": "code",
   "execution_count": 52,
   "id": "487bf4c4",
   "metadata": {},
   "outputs": [
    {
     "data": {
      "text/plain": [
       "job_id                 0.000000\n",
       "title                  0.000000\n",
       "location               0.019351\n",
       "company_profile        0.185011\n",
       "description            0.000056\n",
       "requirements           0.150727\n",
       "telecommuting          0.000000\n",
       "has_company_logo       0.000000\n",
       "has_questions          0.000000\n",
       "employment_type        0.194128\n",
       "required_experience    0.394295\n",
       "required_education     0.453300\n",
       "industry               0.274217\n",
       "function               0.361018\n",
       "fraudulent             0.000000\n",
       "dtype: float64"
      ]
     },
     "execution_count": 52,
     "metadata": {},
     "output_type": "execute_result"
    }
   ],
   "source": [
    "df.isnull().mean()"
   ]
  },
  {
   "cell_type": "code",
   "execution_count": 53,
   "id": "c3a22e7d",
   "metadata": {},
   "outputs": [
    {
     "data": {
      "text/plain": [
       "(4587, 15)"
      ]
     },
     "execution_count": 53,
     "metadata": {},
     "output_type": "execute_result"
    }
   ],
   "source": [
    "rows = df[(df['required_education'].isnull()==True) & (df['required_experience'].isnull()==True) & (df['function'].isnull()==True)]\n",
    "rows.shape"
   ]
  },
  {
   "cell_type": "code",
   "execution_count": 54,
   "id": "9e033f28",
   "metadata": {},
   "outputs": [],
   "source": [
    "drop_rows = list(rows.index)\n",
    "df_clean = df.drop(drop_rows, axis=0) #rows"
   ]
  },
  {
   "cell_type": "code",
   "execution_count": 55,
   "id": "cf4008f1",
   "metadata": {},
   "outputs": [
    {
     "data": {
      "text/plain": [
       "(13293, 15)"
      ]
     },
     "execution_count": 55,
     "metadata": {},
     "output_type": "execute_result"
    }
   ],
   "source": [
    "df_clean.shape"
   ]
  },
  {
   "cell_type": "code",
   "execution_count": 56,
   "id": "2538d3b6",
   "metadata": {},
   "outputs": [
    {
     "data": {
      "text/plain": [
       "job_id                 0.000000\n",
       "title                  0.000000\n",
       "location               0.008125\n",
       "company_profile        0.160536\n",
       "description            0.000000\n",
       "requirements           0.077560\n",
       "telecommuting          0.000000\n",
       "has_company_logo       0.000000\n",
       "has_questions          0.000000\n",
       "employment_type        0.043858\n",
       "required_experience    0.185285\n",
       "required_education     0.264651\n",
       "industry               0.093508\n",
       "function               0.140525\n",
       "fraudulent             0.000000\n",
       "dtype: float64"
      ]
     },
     "execution_count": 56,
     "metadata": {},
     "output_type": "execute_result"
    }
   ],
   "source": [
    "df_clean.isnull().mean()"
   ]
  },
  {
   "cell_type": "code",
   "execution_count": 58,
   "id": "15b25df0",
   "metadata": {
    "scrolled": false
   },
   "outputs": [
    {
     "data": {
      "text/plain": [
       "Mid-Senior level    3809\n",
       "Entry level         2697\n",
       "Associate           2297\n",
       "Not Applicable      1116\n",
       "Director             389\n",
       "Internship           381\n",
       "Executive            141\n",
       "Name: required_experience, dtype: int64"
      ]
     },
     "execution_count": 58,
     "metadata": {},
     "output_type": "execute_result"
    }
   ],
   "source": [
    "df_clean['required_experience'].value_counts()"
   ]
  },
  {
   "cell_type": "code",
   "execution_count": null,
   "id": "7b3dbb59",
   "metadata": {},
   "outputs": [],
   "source": []
  },
  {
   "cell_type": "code",
   "execution_count": 74,
   "id": "ddc46cf8",
   "metadata": {},
   "outputs": [
    {
     "data": {
      "text/plain": [
       "['Internship',\n",
       " 'Not Applicable',\n",
       " 'Mid-Senior level',\n",
       " 'Associate',\n",
       " 'Entry level',\n",
       " 'Executive',\n",
       " nan,\n",
       " 'Director']"
      ]
     },
     "execution_count": 74,
     "metadata": {},
     "output_type": "execute_result"
    }
   ],
   "source": [
    "lst = list(df_clean['required_experience'].unique())\n",
    "lst"
   ]
  },
  {
   "cell_type": "code",
   "execution_count": 81,
   "id": "5cbe3dd5",
   "metadata": {},
   "outputs": [
    {
     "name": "stdout",
     "output_type": "stream",
     "text": [
      "Bachelor's Degree\n",
      "Unspecified\n",
      "Master's Degree\n",
      "High School or equivalent\n",
      "Certification\n",
      "Associate Degree\n",
      "Professional\n",
      "Vocational\n",
      "Doctorate\n",
      "Some College Coursework Completed\n",
      "Vocational - Degree\n",
      "Some High School Coursework\n",
      "Vocational - HS Diploma\n"
     ]
    }
   ],
   "source": [
    "dic = dict(df_clean.loc[df_clean['required_experience']=='Mid-Senior level']['required_education'].value_counts())\n",
    "for j in dic:\n",
    "    print(j)"
   ]
  },
  {
   "cell_type": "code",
   "execution_count": 75,
   "id": "edc96946",
   "metadata": {},
   "outputs": [
    {
     "name": "stdout",
     "output_type": "stream",
     "text": [
      "Bachelor's Degree                    94\n",
      "Some College Coursework Completed    47\n",
      "Unspecified                          42\n",
      "High School or equivalent            39\n",
      "Master's Degree                      13\n",
      "Associate Degree                      6\n",
      "Certification                         4\n",
      "Professional                          3\n",
      "Vocational                            1\n",
      "Name: required_education, dtype: int64\n",
      "High School or equivalent            371\n",
      "Unspecified                          318\n",
      "Bachelor's Degree                    140\n",
      "Certification                         39\n",
      "Master's Degree                        9\n",
      "Professional                           8\n",
      "Some College Coursework Completed      6\n",
      "Vocational                             2\n",
      "Associate Degree                       2\n",
      "Some High School Coursework            1\n",
      "Vocational - Degree                    1\n",
      "Name: required_education, dtype: int64\n",
      "Bachelor's Degree                    1994\n",
      "Unspecified                           367\n",
      "Master's Degree                       158\n",
      "High School or equivalent             123\n",
      "Certification                          44\n",
      "Associate Degree                       43\n",
      "Professional                           30\n",
      "Vocational                             14\n",
      "Doctorate                              11\n",
      "Some College Coursework Completed       5\n",
      "Vocational - Degree                     3\n",
      "Some High School Coursework             1\n",
      "Vocational - HS Diploma                 1\n",
      "Name: required_education, dtype: int64\n",
      "Bachelor's Degree                    1021\n",
      "Unspecified                           289\n",
      "High School or equivalent             243\n",
      "Associate Degree                      133\n",
      "Master's Degree                        52\n",
      "Certification                          35\n",
      "Some College Coursework Completed      21\n",
      "Vocational                             17\n",
      "Professional                           17\n",
      "Doctorate                               7\n",
      "Vocational - HS Diploma                 1\n",
      "Name: required_education, dtype: int64\n",
      "High School or equivalent            1193\n",
      "Bachelor's Degree                     710\n",
      "Unspecified                           276\n",
      "Associate Degree                       57\n",
      "Some High School Coursework            23\n",
      "Certification                          22\n",
      "Master's Degree                        21\n",
      "Some College Coursework Completed      20\n",
      "Vocational                             11\n",
      "Doctorate                               2\n",
      "Vocational - Degree                     2\n",
      "Professional                            2\n",
      "Vocational - HS Diploma                 2\n",
      "Name: required_education, dtype: int64\n",
      "Bachelor's Degree            64\n",
      "Master's Degree              22\n",
      "Unspecified                   5\n",
      "Doctorate                     3\n",
      "Professional                  3\n",
      "Associate Degree              1\n",
      "High School or equivalent     1\n",
      "Name: required_education, dtype: int64\n",
      "Series([], Name: required_education, dtype: int64)\n",
      "Bachelor's Degree                    189\n",
      "Master's Degree                       57\n",
      "Unspecified                           30\n",
      "Associate Degree                       8\n",
      "Professional                           4\n",
      "Doctorate                              2\n",
      "High School or equivalent              2\n",
      "Certification                          2\n",
      "Some College Coursework Completed      1\n",
      "Name: required_education, dtype: int64\n"
     ]
    }
   ],
   "source": [
    "for i in lst:\n",
    "    j = df_clean.loc[df_clean['required_experience']==i]['required_education'].value_counts()\n",
    "    print(j)"
   ]
  },
  {
   "cell_type": "code",
   "execution_count": null,
   "id": "d6fa30f4",
   "metadata": {},
   "outputs": [],
   "source": []
  }
 ],
 "metadata": {
  "kernelspec": {
   "display_name": "Python 3 (ipykernel)",
   "language": "python",
   "name": "python3"
  },
  "language_info": {
   "codemirror_mode": {
    "name": "ipython",
    "version": 3
   },
   "file_extension": ".py",
   "mimetype": "text/x-python",
   "name": "python",
   "nbconvert_exporter": "python",
   "pygments_lexer": "ipython3",
   "version": "3.9.13"
  }
 },
 "nbformat": 4,
 "nbformat_minor": 5
}
